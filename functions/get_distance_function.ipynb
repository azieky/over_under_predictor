{
 "cells": [
  {
   "cell_type": "code",
   "execution_count": null,
   "metadata": {},
   "outputs": [],
   "source": [
    "def get_dist(zipcode_1,zipcode_2):\n",
    "    # Instantiate Zip Code Reader\n",
    "    search = SearchEngine(simple_zipcode=True)\n",
    "    # Get Zip Code 1 Latitude and Longitude\n",
    "    zip1 = search.by_zipcode(zipcode_1)\n",
    "    lat1 = zip1.lat\n",
    "    long1 = zip1.lng\n",
    "    # Get Zip Code 2 Latitude and Longitude\n",
    "    zip2 = search.by_zipcode(zipcode_2)\n",
    "    lat2 = zip2.lat\n",
    "    long2 = zip2.lng\n",
    "    # Return Distance\n",
    "    return mpu.haversine_distance((lat1,long1),(lat2,long2))"
   ]
  }
 ],
 "metadata": {
  "kernelspec": {
   "display_name": "Python 3",
   "language": "python",
   "name": "python3"
  },
  "language_info": {
   "codemirror_mode": {
    "name": "ipython",
    "version": 3
   },
   "file_extension": ".py",
   "mimetype": "text/x-python",
   "name": "python",
   "nbconvert_exporter": "python",
   "pygments_lexer": "ipython3",
   "version": "3.7.6"
  }
 },
 "nbformat": 4,
 "nbformat_minor": 4
}
