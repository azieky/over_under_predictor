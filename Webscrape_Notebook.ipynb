{
 "cells": [
  {
   "cell_type": "code",
   "execution_count": 1,
   "metadata": {},
   "outputs": [],
   "source": [
    "import requests\n",
    "import sys\n",
    "import numpy as np\n",
    "import pandas as pd\n",
    "import time\n",
    "import requests\n",
    "from bs4 import BeautifulSoup \n",
    "import json\n",
    "\n",
    "\n"
   ]
  },
  {
   "cell_type": "code",
   "execution_count": 2,
   "metadata": {},
   "outputs": [],
   "source": [
    "pd.set_option(\"display.max_rows\", 101)"
   ]
  },
  {
   "cell_type": "markdown",
   "metadata": {},
   "source": [
    "# Team Previous Year Stats"
   ]
  },
  {
   "cell_type": "code",
   "execution_count": 3,
   "metadata": {},
   "outputs": [],
   "source": [
    "url = 'https://www.pro-football-reference.com/years/'+'1978'+'/'\n",
    "afc_df = pd.read_html(url)[0]\n",
    "afc_df['Season_Year'] = '1978'\n",
    "nfc_df = pd.read_html(url)[1]\n",
    "nfc_df['Season_Year'] = '1978'\n",
    "df_1 = [nfc_df,afc_df]\n",
    "df = pd.concat(df_1)\n",
    "df = df.reset_index(drop=True)\n",
    "df = df[~df.Tm.str.contains(\"AFC\")]\n",
    "df = df[~df.Tm.str.contains(\"NFC\")]\n",
    "df['Tm'] = df['Tm'].str.replace('+','')\n",
    "df['Tm'] = df['Tm'].str.replace('*','')"
   ]
  },
  {
   "cell_type": "code",
   "execution_count": 4,
   "metadata": {},
   "outputs": [],
   "source": [
    "final_df = pd.read_csv('data/final_df.csv')\n",
    "years = list(map(str, final_df.schedule_season.unique()))"
   ]
  },
  {
   "cell_type": "code",
   "execution_count": 5,
   "metadata": {},
   "outputs": [],
   "source": [
    "\n",
    "for year in years:\n",
    "    url = 'https://www.pro-football-reference.com/years/'+year+'/'\n",
    "    # get afc dataframe and add year\n",
    "    afc_df = pd.read_html(url)[0]\n",
    "    afc_df['Season_Year'] = year\n",
    "    # get nfc dataframe and add year\n",
    "    nfc_df = pd.read_html(url)[1]\n",
    "    nfc_df['Season_Year'] = year\n",
    "    # Combine dataframes\n",
    "    df_1 = [nfc_df,afc_df]\n",
    "    df_1 = pd.concat(df_1)\n",
    "    df = pd.merge(df, df_1,how = 'outer')\n",
    "    # Clean Master Dataframe\n",
    "    df = df.reset_index(drop=True)\n",
    "    df = df[~df.Tm.str.contains(\"AFC\")]\n",
    "    df = df[~df.Tm.str.contains(\"NFC\")]\n",
    "    df['Tm'] = df['Tm'].str.replace('+','')\n",
    "    df['Tm'] = df['Tm'].str.replace('*','')\n",
    "    \n",
    "    \n"
   ]
  },
  {
   "cell_type": "code",
   "execution_count": 6,
   "metadata": {
    "scrolled": true
   },
   "outputs": [
    {
     "data": {
      "text/plain": [
       "array(['1978', '1979', '1980', '1981', '1982', '1983', '1984', '1985',\n",
       "       '1986', '1987', '1988', '1989', '1990', '1991', '1992', '1993',\n",
       "       '1994', '1995', '1996', '1997', '1998', '1999', '2000', '2001',\n",
       "       '2002', '2003', '2004', '2005', '2006', '2007', '2008', '2009',\n",
       "       '2010', '2011', '2012', '2013', '2014', '2015', '2016', '2017',\n",
       "       '2018', '2019'], dtype=object)"
      ]
     },
     "execution_count": 6,
     "metadata": {},
     "output_type": "execute_result"
    }
   ],
   "source": [
    "df.Season_Year.unique()"
   ]
  },
  {
   "cell_type": "code",
   "execution_count": 7,
   "metadata": {},
   "outputs": [],
   "source": [
    "df.to_csv('data/teams_df.csv', index = False, header=True)"
   ]
  },
  {
   "cell_type": "markdown",
   "metadata": {},
   "source": [
    "# Preseason Superbowl Winning Odds"
   ]
  },
  {
   "cell_type": "code",
   "execution_count": 8,
   "metadata": {},
   "outputs": [],
   "source": [
    "url = \"https://www.pro-football-reference.com/years/2020/preseason_odds.htm#preseason_odds::none\"\n",
    "superbowl_odds = pd.read_html(url)[0]\n",
    "superbowl_odds['Season_Year'] = '2020'"
   ]
  },
  {
   "cell_type": "code",
   "execution_count": 9,
   "metadata": {},
   "outputs": [],
   "source": [
    "for year in years:\n",
    "    url = \"https://www.pro-football-reference.com/years/\"+year+\"/preseason_odds.htm\"\n",
    "    superbowl_odds_1 = pd.read_html(url)[0]\n",
    "    superbowl_odds_1['Season_Year'] = year\n",
    "    superbowl_odds = pd.merge(superbowl_odds, superbowl_odds_1,how = 'outer')"
   ]
  },
  {
   "cell_type": "code",
   "execution_count": 10,
   "metadata": {},
   "outputs": [],
   "source": [
    "superbowl_odds = superbowl_odds.drop(columns=['W/L O-U','Record'])"
   ]
  },
  {
   "cell_type": "code",
   "execution_count": 11,
   "metadata": {},
   "outputs": [
    {
     "data": {
      "text/html": [
       "<div>\n",
       "<style scoped>\n",
       "    .dataframe tbody tr th:only-of-type {\n",
       "        vertical-align: middle;\n",
       "    }\n",
       "\n",
       "    .dataframe tbody tr th {\n",
       "        vertical-align: top;\n",
       "    }\n",
       "\n",
       "    .dataframe thead th {\n",
       "        text-align: right;\n",
       "    }\n",
       "</style>\n",
       "<table border=\"1\" class=\"dataframe\">\n",
       "  <thead>\n",
       "    <tr style=\"text-align: right;\">\n",
       "      <th></th>\n",
       "      <th>Tm</th>\n",
       "      <th>Super Bowl Odds</th>\n",
       "      <th>Season_Year</th>\n",
       "    </tr>\n",
       "  </thead>\n",
       "  <tbody>\n",
       "    <tr>\n",
       "      <th>0</th>\n",
       "      <td>Atlanta Falcons</td>\n",
       "      <td>5000</td>\n",
       "      <td>1979</td>\n",
       "    </tr>\n",
       "    <tr>\n",
       "      <th>1</th>\n",
       "      <td>Baltimore Colts</td>\n",
       "      <td>3500</td>\n",
       "      <td>1979</td>\n",
       "    </tr>\n",
       "    <tr>\n",
       "      <th>2</th>\n",
       "      <td>Buffalo Bills</td>\n",
       "      <td>30000</td>\n",
       "      <td>1979</td>\n",
       "    </tr>\n",
       "    <tr>\n",
       "      <th>3</th>\n",
       "      <td>Chicago Bears</td>\n",
       "      <td>4000</td>\n",
       "      <td>1979</td>\n",
       "    </tr>\n",
       "    <tr>\n",
       "      <th>4</th>\n",
       "      <td>Cincinnati Bengals</td>\n",
       "      <td>2500</td>\n",
       "      <td>1979</td>\n",
       "    </tr>\n",
       "    <tr>\n",
       "      <th>...</th>\n",
       "      <td>...</td>\n",
       "      <td>...</td>\n",
       "      <td>...</td>\n",
       "    </tr>\n",
       "    <tr>\n",
       "      <th>1232</th>\n",
       "      <td>San Francisco 49ers</td>\n",
       "      <td>4000</td>\n",
       "      <td>2019</td>\n",
       "    </tr>\n",
       "    <tr>\n",
       "      <th>1233</th>\n",
       "      <td>Seattle Seahawks</td>\n",
       "      <td>2000</td>\n",
       "      <td>2019</td>\n",
       "    </tr>\n",
       "    <tr>\n",
       "      <th>1234</th>\n",
       "      <td>Tampa Bay Buccaneers</td>\n",
       "      <td>10000</td>\n",
       "      <td>2019</td>\n",
       "    </tr>\n",
       "    <tr>\n",
       "      <th>1235</th>\n",
       "      <td>Tennessee Titans</td>\n",
       "      <td>8000</td>\n",
       "      <td>2019</td>\n",
       "    </tr>\n",
       "    <tr>\n",
       "      <th>1236</th>\n",
       "      <td>Washington Redskins</td>\n",
       "      <td>30000</td>\n",
       "      <td>2019</td>\n",
       "    </tr>\n",
       "  </tbody>\n",
       "</table>\n",
       "<p>1237 rows × 3 columns</p>\n",
       "</div>"
      ],
      "text/plain": [
       "                        Tm  Super Bowl Odds Season_Year\n",
       "0          Atlanta Falcons             5000        1979\n",
       "1          Baltimore Colts             3500        1979\n",
       "2            Buffalo Bills            30000        1979\n",
       "3            Chicago Bears             4000        1979\n",
       "4       Cincinnati Bengals             2500        1979\n",
       "...                    ...              ...         ...\n",
       "1232   San Francisco 49ers             4000        2019\n",
       "1233      Seattle Seahawks             2000        2019\n",
       "1234  Tampa Bay Buccaneers            10000        2019\n",
       "1235      Tennessee Titans             8000        2019\n",
       "1236   Washington Redskins            30000        2019\n",
       "\n",
       "[1237 rows x 3 columns]"
      ]
     },
     "execution_count": 11,
     "metadata": {},
     "output_type": "execute_result"
    }
   ],
   "source": [
    "superbowl_odds"
   ]
  },
  {
   "cell_type": "code",
   "execution_count": 12,
   "metadata": {},
   "outputs": [],
   "source": [
    "superbowl_odds.to_csv('data/superbowl_odds.csv', index = False, header=True)"
   ]
  },
  {
   "cell_type": "code",
   "execution_count": null,
   "metadata": {},
   "outputs": [],
   "source": []
  }
 ],
 "metadata": {
  "kernelspec": {
   "display_name": "Python 3",
   "language": "python",
   "name": "python3"
  },
  "language_info": {
   "codemirror_mode": {
    "name": "ipython",
    "version": 3
   },
   "file_extension": ".py",
   "mimetype": "text/x-python",
   "name": "python",
   "nbconvert_exporter": "python",
   "pygments_lexer": "ipython3",
   "version": "3.7.6"
  }
 },
 "nbformat": 4,
 "nbformat_minor": 4
}
