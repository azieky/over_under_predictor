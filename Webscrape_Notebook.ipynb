{
 "cells": [
  {
   "cell_type": "code",
   "execution_count": 1,
   "metadata": {},
   "outputs": [],
   "source": [
    "import requests\n",
    "import sys\n",
    "import numpy as np\n",
    "import pandas as pd\n",
    "import time\n",
    "final_df = pd.read_csv('final_df.csv')\n"
   ]
  },
  {
   "cell_type": "code",
   "execution_count": 2,
   "metadata": {},
   "outputs": [],
   "source": [
    "pd.set_option(\"display.max_rows\", 101)"
   ]
  },
  {
   "cell_type": "code",
   "execution_count": 3,
   "metadata": {},
   "outputs": [],
   "source": [
    "url = 'https://www.pro-football-reference.com/years/'+'1978'+'/'\n",
    "afc_df = pd.read_html(url)[0]\n",
    "afc_df['Season_Year'] = '1978'\n",
    "nfc_df = pd.read_html(url)[1]\n",
    "nfc_df['Season_Year'] = '1978'\n",
    "df_1 = [nfc_df,afc_df]\n",
    "df = pd.concat(df_1)\n",
    "df = df.reset_index(drop=True)\n",
    "df = df[~df.Tm.str.contains(\"AFC\")]\n",
    "df = df[~df.Tm.str.contains(\"NFC\")]\n",
    "df['Tm'] = df['Tm'].str.replace('+','')\n",
    "df['Tm'] = df['Tm'].str.replace('*','')"
   ]
  },
  {
   "cell_type": "code",
   "execution_count": 4,
   "metadata": {},
   "outputs": [],
   "source": [
    "years = list(map(str, final_df.schedule_season.unique()))"
   ]
  },
  {
   "cell_type": "code",
   "execution_count": 5,
   "metadata": {},
   "outputs": [],
   "source": [
    "\n",
    "for year in years:\n",
    "    url = 'https://www.pro-football-reference.com/years/'+year+'/'\n",
    "    # get afc dataframe and add year\n",
    "    afc_df = pd.read_html(url)[0]\n",
    "    afc_df['Season_Year'] = year\n",
    "    # get nfc dataframe and add year\n",
    "    nfc_df = pd.read_html(url)[1]\n",
    "    nfc_df['Season_Year'] = year\n",
    "    # Combine dataframes\n",
    "    df_1 = [nfc_df,afc_df]\n",
    "    df_1 = pd.concat(df_1)\n",
    "    df = pd.merge(df, df_1,how = 'outer')\n",
    "    # Clean Master Dataframe\n",
    "    df = df.reset_index(drop=True)\n",
    "    df = df[~df.Tm.str.contains(\"AFC\")]\n",
    "    df = df[~df.Tm.str.contains(\"NFC\")]\n",
    "    df['Tm'] = df['Tm'].str.replace('+','')\n",
    "    df['Tm'] = df['Tm'].str.replace('*','')\n",
    "    \n",
    "    \n"
   ]
  },
  {
   "cell_type": "code",
   "execution_count": 6,
   "metadata": {
    "scrolled": true
   },
   "outputs": [
    {
     "data": {
      "text/plain": [
       "array(['1978', '1979', '1980', '1981', '1982', '1983', '1984', '1985',\n",
       "       '1986', '1987', '1988', '1989', '1990', '1991', '1992', '1993',\n",
       "       '1994', '1995', '1996', '1997', '1998', '1999', '2000', '2001',\n",
       "       '2002', '2003', '2004', '2005', '2006', '2007', '2008', '2009',\n",
       "       '2010', '2011', '2012', '2013', '2014', '2015', '2016', '2017',\n",
       "       '2018', '2019', '2020'], dtype=object)"
      ]
     },
     "execution_count": 6,
     "metadata": {},
     "output_type": "execute_result"
    }
   ],
   "source": [
    "df.Season_Year.unique()"
   ]
  },
  {
   "cell_type": "code",
   "execution_count": 7,
   "metadata": {},
   "outputs": [],
   "source": [
    "df.to_csv('teams_df.csv', index = False, header=True)"
   ]
  },
  {
   "cell_type": "code",
   "execution_count": null,
   "metadata": {},
   "outputs": [],
   "source": []
  }
 ],
 "metadata": {
  "kernelspec": {
   "display_name": "Python 3",
   "language": "python",
   "name": "python3"
  },
  "language_info": {
   "codemirror_mode": {
    "name": "ipython",
    "version": 3
   },
   "file_extension": ".py",
   "mimetype": "text/x-python",
   "name": "python",
   "nbconvert_exporter": "python",
   "pygments_lexer": "ipython3",
   "version": "3.7.6"
  }
 },
 "nbformat": 4,
 "nbformat_minor": 4
}
