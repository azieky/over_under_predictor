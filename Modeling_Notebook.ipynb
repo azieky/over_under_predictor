{
 "cells": [
  {
   "cell_type": "markdown",
   "metadata": {},
   "source": [
    "# Over Under Predictor"
   ]
  },
  {
   "cell_type": "markdown",
   "metadata": {},
   "source": [
    "## Modeling Notebook"
   ]
  },
  {
   "cell_type": "code",
   "execution_count": 129,
   "metadata": {},
   "outputs": [],
   "source": [
    "import pandas as pd\n",
    "import numpy as np\n",
    "import math\n",
    "import matplotlib.pyplot as plt\n",
    "import random\n",
    "import seaborn as sns\n",
    "import math\n",
    "from sklearn.model_selection import cross_val_score\n",
    "import re\n",
    "%matplotlib inline\n",
    "from sklearn import metrics\n",
    "from sklearn.metrics import confusion_matrix,f1_score,classification_report\n",
    "from sklearn.preprocessing import PolynomialFeatures\n",
    "import statsmodels.api as sm\n",
    "pd.set_option('display.max_columns', 100)"
   ]
  },
  {
   "cell_type": "code",
   "execution_count": 130,
   "metadata": {},
   "outputs": [],
   "source": [
    "df = pd.read_csv('data/final_df.csv')"
   ]
  },
  {
   "cell_type": "markdown",
   "metadata": {},
   "source": [
    "# Feature Engineering"
   ]
  },
  {
   "cell_type": "code",
   "execution_count": 131,
   "metadata": {},
   "outputs": [],
   "source": [
    "# Drop Uneeded Rows\n",
    "df = df.drop(columns=['unix', 'time','stadium_address','stadium_weather_station_code',\n",
    "                      'stadium_weather_type','STATION','team_away','team_home',\n",
    "                      'LATITUDE','LONGITUDE','zipcode','zipcode_away','stadium_name','team_favorite_id','stadium_location'])\n",
    "\n",
    "#'away_MoV','home_MoV','diff_MoV','diff_OSRS','away_SRS','home_SRS',\n",
    "#'diff_SRS','away_OSRS','away_PD','home_OSRS','home_PD','away_DSRS','home_DSRS'\n",
    " \n",
    "\n",
    "df.drop(columns=['score_home','score_away','total'],inplace=True)\n",
    "df.drop('schedule_date', axis=1,inplace=True)\n",
    "\n",
    "# Transform Over/Under Results to Binary 0 = Under, 1 = Over\n",
    "df['over_under_result'] = np.where(df['over_under_result'] == 'Over',1,0)\n",
    "# Transform Stadium Surface to Binary 0 = Turf, 1 = Grass \n",
    "df['stadium_surface'] = np.where(df['stadium_surface'] == 'Grass',1,0)\n",
    "\n",
    "# True/False to Binary 0 = False, 1 = True\n",
    "df['schedule_playoff'] = list(map(int, df['schedule_playoff']))\n",
    "df['stadium_neutral'] = list(map(int, df['stadium_neutral']))\n",
    "\n",
    "# Get Dummies for Categorical Variables\n",
    "df = pd.get_dummies(df, columns = ['icon'], drop_first= True)\n",
    "df = pd.get_dummies(df, columns = ['summary'], drop_first= True)\n",
    "df = pd.get_dummies(df, columns = ['stadium_type'], drop_first= True)\n",
    "#df = pd.get_dummies(df, columns = ['stadium_name'], drop_first= True)\n",
    "#df = pd.get_dummies(df, columns = ['team_home'], drop_first= True)\n",
    "#df = pd.get_dummies(df, columns = ['team_away'], drop_first= True)\n",
    "#df = pd.get_dummies(df, columns = ['team_favorite_id'], drop_first= True)\n",
    "\n",
    "# Transform Uint8 values to Integers\n",
    "uint8_columns = list(df.select_dtypes('uint8').columns)\n",
    "for colname in df.columns:\n",
    "    if colname in uint8_columns:\n",
    "        df[colname] = df[colname].astype(int)\n",
    "\n",
    "# Drop the last couple Null Values\n",
    "df = df.dropna()"
   ]
  },
  {
   "cell_type": "code",
   "execution_count": 132,
   "metadata": {},
   "outputs": [
    {
     "name": "stdout",
     "output_type": "stream",
     "text": [
      "Total 'Under' Outcomes\n",
      "4978\n",
      "Total 'Over' Outcomes\n",
      "4837\n",
      "----------------------------------------\n",
      "Percent 'Under' Outcomes\n",
      "0.51\n",
      "Percent 'Over' Outcomes\n",
      "0.49\n"
     ]
    }
   ],
   "source": [
    "### Percentages of Classes ###\n",
    "print(\"Total 'Under' Outcomes\")\n",
    "print(df.over_under_result.value_counts()[0])\n",
    "print(\"Total 'Over' Outcomes\")\n",
    "print(df.over_under_result.value_counts()[1])\n",
    "print('----------------------------------------')\n",
    "print(\"Percent 'Under' Outcomes\")\n",
    "print(round((df.groupby(['over_under_result']).over_under_result.count()[0]/\n",
    "       df.groupby(['over_under_result']).over_under_result.count().sum()),2))\n",
    "print(\"Percent 'Over' Outcomes\")\n",
    "print(round((df.groupby(['over_under_result']).over_under_result.count()[1]/\n",
    "       df.groupby(['over_under_result']).over_under_result.count().sum()),2))"
   ]
  },
  {
   "cell_type": "markdown",
   "metadata": {},
   "source": [
    "# Feature Selection"
   ]
  },
  {
   "cell_type": "code",
   "execution_count": 133,
   "metadata": {},
   "outputs": [],
   "source": [
    "# Split data to be used in the models\n",
    "# Create matrix of features\n",
    "X = df.drop('over_under_result', axis=1) # grabs everything else but 'Default'\n",
    "\n",
    "# Create target variable\n",
    "y = df['over_under_result'] # y is the column we're trying to predict"
   ]
  },
  {
   "cell_type": "markdown",
   "metadata": {},
   "source": [
    "Check to see which features correlate highly with our Target Variable"
   ]
  },
  {
   "cell_type": "code",
   "execution_count": 134,
   "metadata": {},
   "outputs": [
    {
     "data": {
      "text/plain": [
       "over_under_result                        1.000000\n",
       "over_under_line                          0.027211\n",
       "precipIntensity                          0.025543\n",
       "windSpeed                                0.025436\n",
       "summary_Heavy Rain and Humid             0.025092\n",
       "                                           ...   \n",
       "stadium_neutral                          0.000712\n",
       "summary_Light Rain and Humid             0.000681\n",
       "summary_Possible Light Rain and Humid    0.000581\n",
       "stadium_type_retractable                 0.000320\n",
       "summary_Heavy Snow                       0.000290\n",
       "Name: over_under_result, Length: 106, dtype: float64"
      ]
     },
     "execution_count": 134,
     "metadata": {},
     "output_type": "execute_result"
    }
   ],
   "source": [
    "np.abs(df.corr()['over_under_result']).sort_values(ascending=False)"
   ]
  },
  {
   "cell_type": "markdown",
   "metadata": {},
   "source": [
    "# Baseline Models"
   ]
  },
  {
   "cell_type": "markdown",
   "metadata": {},
   "source": [
    "To start modeling I will use some baseline models to start to understand which are the best algorithms to use with my data, to start I will use four baseline models; Logistic Regression, Decision Tree, Random Forest, and Support Vector Machine."
   ]
  },
  {
   "cell_type": "markdown",
   "metadata": {},
   "source": [
    "### Train Test Split"
   ]
  },
  {
   "cell_type": "markdown",
   "metadata": {},
   "source": [
    "We first need to start with splitting our data. We split our data into a Train and Test set. 75% of our data goes into the Train set, which we will use to fit our model. 25% of our data goes into Test set, which we use to predict our target variable."
   ]
  },
  {
   "cell_type": "code",
   "execution_count": 135,
   "metadata": {},
   "outputs": [],
   "source": [
    "#Split the Data\n",
    "from sklearn.model_selection import train_test_split\n",
    "X_train, X_test, y_train, y_test = train_test_split(X, y,random_state=20)"
   ]
  },
  {
   "cell_type": "markdown",
   "metadata": {},
   "source": [
    "### Scale Data"
   ]
  },
  {
   "cell_type": "code",
   "execution_count": 136,
   "metadata": {},
   "outputs": [],
   "source": [
    "# Scale the Data\n",
    "from sklearn.preprocessing import StandardScaler\n",
    "scaler = StandardScaler()\n",
    "\n",
    "X_train = scaler.fit_transform(X_train)\n",
    "X_train = pd.DataFrame(data = X_train, columns = X.columns)\n",
    "\n",
    "X_test = scaler.transform(X_test)\n",
    "X_test = pd.DataFrame(data = X_test,columns = X.columns)"
   ]
  },
  {
   "cell_type": "markdown",
   "metadata": {},
   "source": [
    "### Logistic Regression"
   ]
  },
  {
   "cell_type": "code",
   "execution_count": 137,
   "metadata": {},
   "outputs": [
    {
     "name": "stdout",
     "output_type": "stream",
     "text": [
      "Train F1 score:  0.552\n",
      "Test F1 score:  0.532\n"
     ]
    },
    {
     "name": "stderr",
     "output_type": "stream",
     "text": [
      "/Users/alexzieky/opt/anaconda3/lib/python3.7/site-packages/sklearn/linear_model/_logistic.py:764: ConvergenceWarning: lbfgs failed to converge (status=1):\n",
      "STOP: TOTAL NO. of ITERATIONS REACHED LIMIT.\n",
      "\n",
      "Increase the number of iterations (max_iter) or scale the data as shown in:\n",
      "    https://scikit-learn.org/stable/modules/preprocessing.html\n",
      "Please also refer to the documentation for alternative solver options:\n",
      "    https://scikit-learn.org/stable/modules/linear_model.html#logistic-regression\n",
      "  extra_warning_msg=_LOGISTIC_SOLVER_CONVERGENCE_MSG)\n"
     ]
    }
   ],
   "source": [
    "from sklearn.linear_model import LogisticRegression\n",
    "\n",
    "base_logreg = LogisticRegression(class_weight = 'balanced')\n",
    "\n",
    "base_logreg.fit(X_train, y_train)\n",
    "\n",
    "base_logred_train_pred = base_logreg.predict(X_train)\n",
    "base_logred_test_pred = base_logreg.predict(X_test)\n",
    "\n",
    "base_logred_train_f1_score = round(f1_score(y_train, base_logred_train_pred),3)\n",
    "base_logreg_test_f1_score = round(f1_score(y_test, base_logred_test_pred),3)\n",
    "\n",
    "print('Train F1 score: ', base_logred_train_f1_score)\n",
    "print('Test F1 score: ', base_logreg_test_f1_score)\n"
   ]
  },
  {
   "cell_type": "code",
   "execution_count": 167,
   "metadata": {},
   "outputs": [
    {
     "name": "stderr",
     "output_type": "stream",
     "text": [
      "/Users/alexzieky/opt/anaconda3/lib/python3.7/site-packages/sklearn/linear_model/_logistic.py:764: ConvergenceWarning: lbfgs failed to converge (status=1):\n",
      "STOP: TOTAL NO. of ITERATIONS REACHED LIMIT.\n",
      "\n",
      "Increase the number of iterations (max_iter) or scale the data as shown in:\n",
      "    https://scikit-learn.org/stable/modules/preprocessing.html\n",
      "Please also refer to the documentation for alternative solver options:\n",
      "    https://scikit-learn.org/stable/modules/linear_model.html#logistic-regression\n",
      "  extra_warning_msg=_LOGISTIC_SOLVER_CONVERGENCE_MSG)\n",
      "/Users/alexzieky/opt/anaconda3/lib/python3.7/site-packages/sklearn/linear_model/_logistic.py:764: ConvergenceWarning: lbfgs failed to converge (status=1):\n",
      "STOP: TOTAL NO. of ITERATIONS REACHED LIMIT.\n",
      "\n",
      "Increase the number of iterations (max_iter) or scale the data as shown in:\n",
      "    https://scikit-learn.org/stable/modules/preprocessing.html\n",
      "Please also refer to the documentation for alternative solver options:\n",
      "    https://scikit-learn.org/stable/modules/linear_model.html#logistic-regression\n",
      "  extra_warning_msg=_LOGISTIC_SOLVER_CONVERGENCE_MSG)\n",
      "/Users/alexzieky/opt/anaconda3/lib/python3.7/site-packages/sklearn/linear_model/_logistic.py:764: ConvergenceWarning: lbfgs failed to converge (status=1):\n",
      "STOP: TOTAL NO. of ITERATIONS REACHED LIMIT.\n",
      "\n",
      "Increase the number of iterations (max_iter) or scale the data as shown in:\n",
      "    https://scikit-learn.org/stable/modules/preprocessing.html\n",
      "Please also refer to the documentation for alternative solver options:\n",
      "    https://scikit-learn.org/stable/modules/linear_model.html#logistic-regression\n",
      "  extra_warning_msg=_LOGISTIC_SOLVER_CONVERGENCE_MSG)\n",
      "/Users/alexzieky/opt/anaconda3/lib/python3.7/site-packages/sklearn/linear_model/_logistic.py:764: ConvergenceWarning: lbfgs failed to converge (status=1):\n",
      "STOP: TOTAL NO. of ITERATIONS REACHED LIMIT.\n",
      "\n",
      "Increase the number of iterations (max_iter) or scale the data as shown in:\n",
      "    https://scikit-learn.org/stable/modules/preprocessing.html\n",
      "Please also refer to the documentation for alternative solver options:\n",
      "    https://scikit-learn.org/stable/modules/linear_model.html#logistic-regression\n",
      "  extra_warning_msg=_LOGISTIC_SOLVER_CONVERGENCE_MSG)\n",
      "/Users/alexzieky/opt/anaconda3/lib/python3.7/site-packages/sklearn/linear_model/_logistic.py:764: ConvergenceWarning: lbfgs failed to converge (status=1):\n",
      "STOP: TOTAL NO. of ITERATIONS REACHED LIMIT.\n",
      "\n",
      "Increase the number of iterations (max_iter) or scale the data as shown in:\n",
      "    https://scikit-learn.org/stable/modules/preprocessing.html\n",
      "Please also refer to the documentation for alternative solver options:\n",
      "    https://scikit-learn.org/stable/modules/linear_model.html#logistic-regression\n",
      "  extra_warning_msg=_LOGISTIC_SOLVER_CONVERGENCE_MSG)\n"
     ]
    },
    {
     "name": "stdout",
     "output_type": "stream",
     "text": [
      "[0.49689441 0.51669941 0.53754941 0.49652433 0.5        0.46237732\n",
      " 0.46945338 0.51244813 0.48728814 0.43838604]\n",
      "0.49176205607114226\n",
      "0.02737390350872659\n"
     ]
    },
    {
     "name": "stderr",
     "output_type": "stream",
     "text": [
      "/Users/alexzieky/opt/anaconda3/lib/python3.7/site-packages/sklearn/linear_model/_logistic.py:764: ConvergenceWarning: lbfgs failed to converge (status=1):\n",
      "STOP: TOTAL NO. of ITERATIONS REACHED LIMIT.\n",
      "\n",
      "Increase the number of iterations (max_iter) or scale the data as shown in:\n",
      "    https://scikit-learn.org/stable/modules/preprocessing.html\n",
      "Please also refer to the documentation for alternative solver options:\n",
      "    https://scikit-learn.org/stable/modules/linear_model.html#logistic-regression\n",
      "  extra_warning_msg=_LOGISTIC_SOLVER_CONVERGENCE_MSG)\n",
      "/Users/alexzieky/opt/anaconda3/lib/python3.7/site-packages/sklearn/linear_model/_logistic.py:764: ConvergenceWarning: lbfgs failed to converge (status=1):\n",
      "STOP: TOTAL NO. of ITERATIONS REACHED LIMIT.\n",
      "\n",
      "Increase the number of iterations (max_iter) or scale the data as shown in:\n",
      "    https://scikit-learn.org/stable/modules/preprocessing.html\n",
      "Please also refer to the documentation for alternative solver options:\n",
      "    https://scikit-learn.org/stable/modules/linear_model.html#logistic-regression\n",
      "  extra_warning_msg=_LOGISTIC_SOLVER_CONVERGENCE_MSG)\n"
     ]
    }
   ],
   "source": [
    "scores = cross_val_score(base_logreg, X, y, scoring=\"f1\", cv = 10)\n",
    "mean_score = scores.mean()\n",
    "std_score = scores.std()\n",
    "print(scores)\n",
    "print(mean_score)\n",
    "print(std_score)"
   ]
  },
  {
   "cell_type": "code",
   "execution_count": 138,
   "metadata": {},
   "outputs": [
    {
     "data": {
      "image/png": "[encoded data removed]",
      "text/plain": [
       "<Figure size 864x576 with 2 Axes>"
      ]
     },
     "metadata": {
      "needs_background": "light"
     },
     "output_type": "display_data"
    }
   ],
   "source": [
    "#Generate confusion matrix\n",
    "glabels = np.unique(y_test)\n",
    "gcm = confusion_matrix(y_test, base_logred_test_pred, labels=glabels) \n",
    "\n",
    "gcm_df = pd.DataFrame(gcm,index=glabels, columns=glabels)\n",
    "\n",
    "#Plot\n",
    "plt.figure(figsize=(12, 8))\n",
    "\n",
    "cm = sns.set(font_scale=1.4)\n",
    "cm = sns.heatmap(gcm_df,\n",
    "            cmap='Greens', \n",
    "            annot=True, \n",
    "            fmt='g')\n",
    "\n",
    "cm.set_title('Logistic Regression Confusion Matrix', fontsize = 30)\n",
    "cm.set_ylabel('Actual label', fontsize = 25)\n",
    "cm.set_xlabel('Predicted label', fontsize = 25)\n",
    "cm.xaxis.set_ticklabels(['Under', 'Over'], fontsize = 20)   \n",
    "cm.yaxis.set_ticklabels(['Under', 'Over'], fontsize = 20)\n",
    "plt.savefig('log_confusion.png')"
   ]
  },
  {
   "cell_type": "markdown",
   "metadata": {},
   "source": [
    "Starting with a basic Logistic Regression model with a balanced class imbalance we recieved an F1 Score of .484. As a basis we are shooting for atleast above 51%, which we could achieve by predicting 'Under' everytime. We can see from our confusion matrix that the model is overpredicting 'Under' compared to 'Over'. The model is performing poorly on both the Train and the Test Dataset which could point to underfitting."
   ]
  },
  {
   "cell_type": "markdown",
   "metadata": {},
   "source": [
    "### Decision Tree"
   ]
  },
  {
   "cell_type": "code",
   "execution_count": 140,
   "metadata": {},
   "outputs": [
    {
     "name": "stdout",
     "output_type": "stream",
     "text": [
      "Train F1 score:  1.0\n",
      "Test F1 score:  0.513\n"
     ]
    }
   ],
   "source": [
    "# Simple decision tree (ID3)\n",
    "from sklearn.tree import DecisionTreeClassifier \n",
    "\n",
    "dtc = DecisionTreeClassifier()\n",
    "dtc.fit(X_train, y_train)\n",
    "\n",
    "dtc_train_pred = dtc.predict(X_train)\n",
    "dtc_test_pred = dtc.predict(X_test)\n",
    "\n",
    "dtc_f1_train = round(f1_score(y_train, dtc_train_pred),3)\n",
    "dtc_f1_test = round(f1_score(y_test, dtc_test_pred), 3)\n",
    "\n",
    "print('Train F1 score: ', dtc_f1_train)\n",
    "print('Test F1 score: ', dtc_f1_test)\n"
   ]
  },
  {
   "cell_type": "code",
   "execution_count": 141,
   "metadata": {},
   "outputs": [
    {
     "name": "stdout",
     "output_type": "stream",
     "text": [
      "[0.50920568 0.48662551 0.50892402 0.49796748 0.49360341]\n",
      "0.4992652210340678\n",
      "0.008781884966810318\n"
     ]
    }
   ],
   "source": [
    "scores = cross_val_score(dtc, X, y, scoring=\"f1\", cv = 5)\n",
    "mean_score = scores.mean()\n",
    "std_score = scores.std()\n",
    "print(scores)\n",
    "print(mean_score)\n",
    "print(std_score)"
   ]
  },
  {
   "cell_type": "markdown",
   "metadata": {},
   "source": [
    "The Cross Validation score shows that the F1 score is hovering around 50%. We will have to try to continue to tune hyperparameters to improve the score."
   ]
  },
  {
   "cell_type": "code",
   "execution_count": 142,
   "metadata": {},
   "outputs": [
    {
     "data": {
      "image/png": "[encoded data removed]",
      "text/plain": [
       "<Figure size 432x288 with 1 Axes>"
      ]
     },
     "metadata": {},
     "output_type": "display_data"
    }
   ],
   "source": [
    "from sklearn.ensemble import ExtraTreesClassifier\n",
    "import matplotlib.pyplot as plt\n",
    "\n",
    "feat_importances = pd.Series(dtc.feature_importances_, index=X.columns)\n",
    "feat_importances.nlargest(17).plot(kind='barh')\n",
    "plt.show()"
   ]
  },
  {
   "cell_type": "markdown",
   "metadata": {},
   "source": [
    "Above we can see some of the most important features driving our Decision Tree Classifer"
   ]
  },
  {
   "cell_type": "code",
   "execution_count": 143,
   "metadata": {},
   "outputs": [
    {
     "data": {
      "text/plain": [
       "[Text(0, 0.5, 'Under'), Text(0, 1.5, 'Over')]"
      ]
     },
     "execution_count": 143,
     "metadata": {},
     "output_type": "execute_result"
    },
    {
     "data": {
      "image/png": "[encoded data removed]",
      "text/plain": [
       "<Figure size 864x576 with 2 Axes>"
      ]
     },
     "metadata": {},
     "output_type": "display_data"
    }
   ],
   "source": [
    "#Generate confusion matrix\n",
    "glabels = np.unique(y_test)\n",
    "gcm = confusion_matrix(y_test, dtc_test_pred, labels=glabels) \n",
    "\n",
    "gcm_df = pd.DataFrame(gcm,index=glabels, columns=glabels)\n",
    "\n",
    "#Plot\n",
    "plt.figure(figsize=(12, 8))\n",
    "\n",
    "cm = sns.set(font_scale=1.4)\n",
    "cm = sns.heatmap(gcm_df,\n",
    "            cmap='Greens', \n",
    "            annot=True, \n",
    "            fmt='g')\n",
    "\n",
    "cm.set_title('Decision Tree Confusion Matrix', fontsize = 30)\n",
    "cm.set_ylabel('Actual label', fontsize = 25)\n",
    "cm.set_xlabel('Predicted label', fontsize = 25)\n",
    "cm.xaxis.set_ticklabels(['Under', 'Over'], fontsize = 20)   \n",
    "cm.yaxis.set_ticklabels(['Under', 'Over'], fontsize = 20)\n",
    "#plt.savefig('log_confusion.png')"
   ]
  },
  {
   "cell_type": "markdown",
   "metadata": {},
   "source": [
    "Our Decision Tree Classifier is overfit, but our Test F1 score is still an improvement compared to our Logistic Regression Model. We can see from form our Confusion Matric that we are slightly overpredicting the 'Under'. Now I will run a Grid Search CV to trying and further tune the hyperperameters of the Decision Tree Model to see if we can improve our baseline."
   ]
  },
  {
   "cell_type": "code",
   "execution_count": 144,
   "metadata": {},
   "outputs": [
    {
     "name": "stdout",
     "output_type": "stream",
     "text": [
      "Fitting 5 folds for each of 567 candidates, totalling 2835 fits\n"
     ]
    },
    {
     "name": "stderr",
     "output_type": "stream",
     "text": [
      "[Parallel(n_jobs=-1)]: Using backend LokyBackend with 4 concurrent workers.\n",
      "[Parallel(n_jobs=-1)]: Done  56 tasks      | elapsed:    1.5s\n",
      "[Parallel(n_jobs=-1)]: Done 356 tasks      | elapsed:    7.1s\n",
      "[Parallel(n_jobs=-1)]: Done 856 tasks      | elapsed:   17.9s\n",
      "[Parallel(n_jobs=-1)]: Done 1556 tasks      | elapsed:   39.8s\n",
      "[Parallel(n_jobs=-1)]: Done 2456 tasks      | elapsed:  1.2min\n"
     ]
    },
    {
     "name": "stdout",
     "output_type": "stream",
     "text": [
      "{'criterion': 'gini', 'max_depth': 5, 'min_samples_leaf': 6, 'min_samples_split': 2} :  0.5312736797167067\n",
      "Train F1 score:  0.58\n",
      "Test F1 score:  0.525\n"
     ]
    },
    {
     "name": "stderr",
     "output_type": "stream",
     "text": [
      "[Parallel(n_jobs=-1)]: Done 2835 out of 2835 | elapsed:  1.6min finished\n"
     ]
    }
   ],
   "source": [
    "from sklearn.model_selection import GridSearchCV\n",
    "# find the best hyperparameters for simple decision tree\n",
    "parameters={'max_depth': range(3,10,1),  \n",
    "            'min_samples_split':range(1,10,1),\n",
    "            'min_samples_leaf':range(1,10,1),\n",
    "            'criterion': ['gini'] \n",
    "           }\n",
    "\n",
    "dtc = DecisionTreeClassifier(random_state=1)\n",
    "\n",
    "tree_g = GridSearchCV(dtc, parameters, cv=5, scoring='f1', verbose = 1,  n_jobs = -1)\n",
    "tree_g.fit(X_train,y_train)\n",
    "\n",
    "print(tree_g.best_params_, ': ', tree_g.best_score_)\n",
    "\n",
    "y_pred = tree_g.best_estimator_.predict(X_test)    \n",
    "y_pred_train = tree_g.best_estimator_.predict(X_train)    \n",
    "\n",
    "f1_train = round(f1_score(y_train, y_pred_train), 3)\n",
    "f1_test = round(f1_score(y_test, y_pred), 3)\n",
    "\n",
    "print('Train F1 score: ', f1_train)\n",
    "print('Test F1 score: ', f1_test)"
   ]
  },
  {
   "cell_type": "markdown",
   "metadata": {},
   "source": [
    "After using Gridsearch I was able to get me Decision Tree F1 score up to .547 improving by roughly 3%. I was able to do this by using 'Gini' as my criterion, a max depth of 8, minimum sample leafs of 3, minimum samples split 7. Similar to the Logistic Regression Model, the data is performing similaron the training and test sets, leading me to believe there isn't much overfitting going on."
   ]
  },
  {
   "cell_type": "markdown",
   "metadata": {},
   "source": [
    "## Random Forest"
   ]
  },
  {
   "cell_type": "code",
   "execution_count": 145,
   "metadata": {},
   "outputs": [
    {
     "name": "stdout",
     "output_type": "stream",
     "text": [
      "Train F1 score:  1.0\n",
      "Test F1 score:  0.527\n"
     ]
    }
   ],
   "source": [
    "from sklearn.ensemble import RandomForestClassifier\n",
    "rfc = RandomForestClassifier()\n",
    "rfc.fit(X_train, y_train)\n",
    "rfc_predicted = rfc.predict(X_test)\n",
    "rfc_predicted_train = rfc.predict(X_train)\n",
    "rfc_f1_train = round(f1_score(y_train, rfc_predicted_train), 3)\n",
    "rfc_f1_test = round(f1_score(y_test, rfc_predicted), 3)\n",
    "\n",
    "print('Train F1 score: ', rfc_f1_train)\n",
    "print('Test F1 score: ', rfc_f1_test)"
   ]
  },
  {
   "cell_type": "code",
   "execution_count": 146,
   "metadata": {},
   "outputs": [
    {
     "data": {
      "text/plain": [
       "Text(0.5, 44.5, 'Predicted label')"
      ]
     },
     "execution_count": 146,
     "metadata": {},
     "output_type": "execute_result"
    },
    {
     "data": {
      "image/png": "[encoded data removed]",
      "text/plain": [
       "<Figure size 864x576 with 2 Axes>"
      ]
     },
     "metadata": {},
     "output_type": "display_data"
    }
   ],
   "source": [
    "#Generate confusion matrix\n",
    "glabels = np.unique(y_test)\n",
    "gcm = confusion_matrix(y_test, rfc_predicted, labels=glabels) \n",
    "\n",
    "gcm_df = pd.DataFrame(gcm,index=glabels, columns=glabels)\n",
    "\n",
    "#Plot\n",
    "plt.figure(figsize=(12, 8))\n",
    "\n",
    "cm = sns.set(font_scale=1.4)\n",
    "cm = sns.heatmap(gcm_df,\n",
    "            cmap='Greens', \n",
    "            annot=True, \n",
    "            fmt='g')\n",
    "\n",
    "cm.set_title('Random Forest Confusion Matrix', fontsize = 30)\n",
    "cm.set_ylabel('Actual label', fontsize = 25)\n",
    "cm.set_xlabel('Predicted label', fontsize = 25)\n",
    "#cm.xaxis.set_ticklabels(['Under', 'Over'], fontsize = 20)   \n",
    "#cm.yaxis.set_ticklabels(['Under', 'Over'], fontsize = 20)\n",
    "#plt.savefig('log_confusion.png')"
   ]
  },
  {
   "cell_type": "markdown",
   "metadata": {},
   "source": [
    "Above our Random Forest model looks to be very overfit with an unsuccessful F1 score. I will try to run a gridsearch to see if there is any sign of Random Forest running successfully."
   ]
  },
  {
   "cell_type": "code",
   "execution_count": 147,
   "metadata": {},
   "outputs": [
    {
     "name": "stdout",
     "output_type": "stream",
     "text": [
      "Fitting 5 folds for each of 600 candidates, totalling 3000 fits\n"
     ]
    },
    {
     "name": "stderr",
     "output_type": "stream",
     "text": [
      "[Parallel(n_jobs=-1)]: Using backend LokyBackend with 4 concurrent workers.\n"
     ]
    },
    {
     "ename": "KeyboardInterrupt",
     "evalue": "",
     "output_type": "error",
     "traceback": [
      "\u001b[0;31m---------------------------------------------------------------------------\u001b[0m",
      "\u001b[0;31mKeyboardInterrupt\u001b[0m                         Traceback (most recent call last)",
      "\u001b[0;32m<ipython-input-147-516a50790933>\u001b[0m in \u001b[0;36m<module>\u001b[0;34m\u001b[0m\n\u001b[1;32m     12\u001b[0m \u001b[0;34m\u001b[0m\u001b[0m\n\u001b[1;32m     13\u001b[0m \u001b[0mtree_g\u001b[0m \u001b[0;34m=\u001b[0m \u001b[0mGridSearchCV\u001b[0m\u001b[0;34m(\u001b[0m\u001b[0mforest\u001b[0m\u001b[0;34m,\u001b[0m \u001b[0mparameters\u001b[0m\u001b[0;34m,\u001b[0m \u001b[0mcv\u001b[0m\u001b[0;34m=\u001b[0m\u001b[0;36m5\u001b[0m\u001b[0;34m,\u001b[0m \u001b[0mscoring\u001b[0m\u001b[0;34m=\u001b[0m\u001b[0;34m'f1'\u001b[0m\u001b[0;34m,\u001b[0m \u001b[0mverbose\u001b[0m \u001b[0;34m=\u001b[0m \u001b[0;36m1\u001b[0m\u001b[0;34m,\u001b[0m  \u001b[0mn_jobs\u001b[0m \u001b[0;34m=\u001b[0m \u001b[0;34m-\u001b[0m\u001b[0;36m1\u001b[0m\u001b[0;34m)\u001b[0m\u001b[0;34m\u001b[0m\u001b[0;34m\u001b[0m\u001b[0m\n\u001b[0;32m---> 14\u001b[0;31m \u001b[0mtree_g\u001b[0m\u001b[0;34m.\u001b[0m\u001b[0mfit\u001b[0m\u001b[0;34m(\u001b[0m\u001b[0mX_train\u001b[0m\u001b[0;34m,\u001b[0m\u001b[0my_train\u001b[0m\u001b[0;34m)\u001b[0m\u001b[0;34m\u001b[0m\u001b[0;34m\u001b[0m\u001b[0m\n\u001b[0m\u001b[1;32m     15\u001b[0m \u001b[0;34m\u001b[0m\u001b[0m\n\u001b[1;32m     16\u001b[0m \u001b[0mprint\u001b[0m\u001b[0;34m(\u001b[0m\u001b[0mtree_g\u001b[0m\u001b[0;34m.\u001b[0m\u001b[0mbest_params_\u001b[0m\u001b[0;34m,\u001b[0m \u001b[0;34m': '\u001b[0m\u001b[0;34m,\u001b[0m \u001b[0mtree_g\u001b[0m\u001b[0;34m.\u001b[0m\u001b[0mbest_score_\u001b[0m\u001b[0;34m)\u001b[0m\u001b[0;34m\u001b[0m\u001b[0;34m\u001b[0m\u001b[0m\n",
      "\u001b[0;32m~/opt/anaconda3/lib/python3.7/site-packages/sklearn/utils/validation.py\u001b[0m in \u001b[0;36minner_f\u001b[0;34m(*args, **kwargs)\u001b[0m\n\u001b[1;32m     70\u001b[0m                           FutureWarning)\n\u001b[1;32m     71\u001b[0m         \u001b[0mkwargs\u001b[0m\u001b[0;34m.\u001b[0m\u001b[0mupdate\u001b[0m\u001b[0;34m(\u001b[0m\u001b[0;34m{\u001b[0m\u001b[0mk\u001b[0m\u001b[0;34m:\u001b[0m \u001b[0marg\u001b[0m \u001b[0;32mfor\u001b[0m \u001b[0mk\u001b[0m\u001b[0;34m,\u001b[0m \u001b[0marg\u001b[0m \u001b[0;32min\u001b[0m \u001b[0mzip\u001b[0m\u001b[0;34m(\u001b[0m\u001b[0msig\u001b[0m\u001b[0;34m.\u001b[0m\u001b[0mparameters\u001b[0m\u001b[0;34m,\u001b[0m \u001b[0margs\u001b[0m\u001b[0;34m)\u001b[0m\u001b[0;34m}\u001b[0m\u001b[0;34m)\u001b[0m\u001b[0;34m\u001b[0m\u001b[0;34m\u001b[0m\u001b[0m\n\u001b[0;32m---> 72\u001b[0;31m         \u001b[0;32mreturn\u001b[0m \u001b[0mf\u001b[0m\u001b[0;34m(\u001b[0m\u001b[0;34m**\u001b[0m\u001b[0mkwargs\u001b[0m\u001b[0;34m)\u001b[0m\u001b[0;34m\u001b[0m\u001b[0;34m\u001b[0m\u001b[0m\n\u001b[0m\u001b[1;32m     73\u001b[0m     \u001b[0;32mreturn\u001b[0m \u001b[0minner_f\u001b[0m\u001b[0;34m\u001b[0m\u001b[0;34m\u001b[0m\u001b[0m\n\u001b[1;32m     74\u001b[0m \u001b[0;34m\u001b[0m\u001b[0m\n",
      "\u001b[0;32m~/opt/anaconda3/lib/python3.7/site-packages/sklearn/model_selection/_search.py\u001b[0m in \u001b[0;36mfit\u001b[0;34m(self, X, y, groups, **fit_params)\u001b[0m\n\u001b[1;32m    734\u001b[0m                 \u001b[0;32mreturn\u001b[0m \u001b[0mresults\u001b[0m\u001b[0;34m\u001b[0m\u001b[0;34m\u001b[0m\u001b[0m\n\u001b[1;32m    735\u001b[0m \u001b[0;34m\u001b[0m\u001b[0m\n\u001b[0;32m--> 736\u001b[0;31m             \u001b[0mself\u001b[0m\u001b[0;34m.\u001b[0m\u001b[0m_run_search\u001b[0m\u001b[0;34m(\u001b[0m\u001b[0mevaluate_candidates\u001b[0m\u001b[0;34m)\u001b[0m\u001b[0;34m\u001b[0m\u001b[0;34m\u001b[0m\u001b[0m\n\u001b[0m\u001b[1;32m    737\u001b[0m \u001b[0;34m\u001b[0m\u001b[0m\n\u001b[1;32m    738\u001b[0m         \u001b[0;31m# For multi-metric evaluation, store the best_index_, best_params_ and\u001b[0m\u001b[0;34m\u001b[0m\u001b[0;34m\u001b[0m\u001b[0;34m\u001b[0m\u001b[0m\n",
      "\u001b[0;32m~/opt/anaconda3/lib/python3.7/site-packages/sklearn/model_selection/_search.py\u001b[0m in \u001b[0;36m_run_search\u001b[0;34m(self, evaluate_candidates)\u001b[0m\n\u001b[1;32m   1186\u001b[0m     \u001b[0;32mdef\u001b[0m \u001b[0m_run_search\u001b[0m\u001b[0;34m(\u001b[0m\u001b[0mself\u001b[0m\u001b[0;34m,\u001b[0m \u001b[0mevaluate_candidates\u001b[0m\u001b[0;34m)\u001b[0m\u001b[0;34m:\u001b[0m\u001b[0;34m\u001b[0m\u001b[0;34m\u001b[0m\u001b[0m\n\u001b[1;32m   1187\u001b[0m         \u001b[0;34m\"\"\"Search all candidates in param_grid\"\"\"\u001b[0m\u001b[0;34m\u001b[0m\u001b[0;34m\u001b[0m\u001b[0m\n\u001b[0;32m-> 1188\u001b[0;31m         \u001b[0mevaluate_candidates\u001b[0m\u001b[0;34m(\u001b[0m\u001b[0mParameterGrid\u001b[0m\u001b[0;34m(\u001b[0m\u001b[0mself\u001b[0m\u001b[0;34m.\u001b[0m\u001b[0mparam_grid\u001b[0m\u001b[0;34m)\u001b[0m\u001b[0;34m)\u001b[0m\u001b[0;34m\u001b[0m\u001b[0;34m\u001b[0m\u001b[0m\n\u001b[0m\u001b[1;32m   1189\u001b[0m \u001b[0;34m\u001b[0m\u001b[0m\n\u001b[1;32m   1190\u001b[0m \u001b[0;34m\u001b[0m\u001b[0m\n",
      "\u001b[0;32m~/opt/anaconda3/lib/python3.7/site-packages/sklearn/model_selection/_search.py\u001b[0m in \u001b[0;36mevaluate_candidates\u001b[0;34m(candidate_params)\u001b[0m\n\u001b[1;32m    713\u001b[0m                                \u001b[0;32mfor\u001b[0m \u001b[0mparameters\u001b[0m\u001b[0;34m,\u001b[0m \u001b[0;34m(\u001b[0m\u001b[0mtrain\u001b[0m\u001b[0;34m,\u001b[0m \u001b[0mtest\u001b[0m\u001b[0;34m)\u001b[0m\u001b[0;34m\u001b[0m\u001b[0;34m\u001b[0m\u001b[0m\n\u001b[1;32m    714\u001b[0m                                in product(candidate_params,\n\u001b[0;32m--> 715\u001b[0;31m                                           cv.split(X, y, groups)))\n\u001b[0m\u001b[1;32m    716\u001b[0m \u001b[0;34m\u001b[0m\u001b[0m\n\u001b[1;32m    717\u001b[0m                 \u001b[0;32mif\u001b[0m \u001b[0mlen\u001b[0m\u001b[0;34m(\u001b[0m\u001b[0mout\u001b[0m\u001b[0;34m)\u001b[0m \u001b[0;34m<\u001b[0m \u001b[0;36m1\u001b[0m\u001b[0;34m:\u001b[0m\u001b[0;34m\u001b[0m\u001b[0;34m\u001b[0m\u001b[0m\n",
      "\u001b[0;32m~/opt/anaconda3/lib/python3.7/site-packages/joblib/parallel.py\u001b[0m in \u001b[0;36m__call__\u001b[0;34m(self, iterable)\u001b[0m\n\u001b[1;32m   1015\u001b[0m \u001b[0;34m\u001b[0m\u001b[0m\n\u001b[1;32m   1016\u001b[0m             \u001b[0;32mwith\u001b[0m \u001b[0mself\u001b[0m\u001b[0;34m.\u001b[0m\u001b[0m_backend\u001b[0m\u001b[0;34m.\u001b[0m\u001b[0mretrieval_context\u001b[0m\u001b[0;34m(\u001b[0m\u001b[0;34m)\u001b[0m\u001b[0;34m:\u001b[0m\u001b[0;34m\u001b[0m\u001b[0;34m\u001b[0m\u001b[0m\n\u001b[0;32m-> 1017\u001b[0;31m                 \u001b[0mself\u001b[0m\u001b[0;34m.\u001b[0m\u001b[0mretrieve\u001b[0m\u001b[0;34m(\u001b[0m\u001b[0;34m)\u001b[0m\u001b[0;34m\u001b[0m\u001b[0;34m\u001b[0m\u001b[0m\n\u001b[0m\u001b[1;32m   1018\u001b[0m             \u001b[0;31m# Make sure that we get a last message telling us we are done\u001b[0m\u001b[0;34m\u001b[0m\u001b[0;34m\u001b[0m\u001b[0;34m\u001b[0m\u001b[0m\n\u001b[1;32m   1019\u001b[0m             \u001b[0melapsed_time\u001b[0m \u001b[0;34m=\u001b[0m \u001b[0mtime\u001b[0m\u001b[0;34m.\u001b[0m\u001b[0mtime\u001b[0m\u001b[0;34m(\u001b[0m\u001b[0;34m)\u001b[0m \u001b[0;34m-\u001b[0m \u001b[0mself\u001b[0m\u001b[0;34m.\u001b[0m\u001b[0m_start_time\u001b[0m\u001b[0;34m\u001b[0m\u001b[0;34m\u001b[0m\u001b[0m\n",
      "\u001b[0;32m~/opt/anaconda3/lib/python3.7/site-packages/joblib/parallel.py\u001b[0m in \u001b[0;36mretrieve\u001b[0;34m(self)\u001b[0m\n\u001b[1;32m    907\u001b[0m             \u001b[0;32mtry\u001b[0m\u001b[0;34m:\u001b[0m\u001b[0;34m\u001b[0m\u001b[0;34m\u001b[0m\u001b[0m\n\u001b[1;32m    908\u001b[0m                 \u001b[0;32mif\u001b[0m \u001b[0mgetattr\u001b[0m\u001b[0;34m(\u001b[0m\u001b[0mself\u001b[0m\u001b[0;34m.\u001b[0m\u001b[0m_backend\u001b[0m\u001b[0;34m,\u001b[0m \u001b[0;34m'supports_timeout'\u001b[0m\u001b[0;34m,\u001b[0m \u001b[0;32mFalse\u001b[0m\u001b[0;34m)\u001b[0m\u001b[0;34m:\u001b[0m\u001b[0;34m\u001b[0m\u001b[0;34m\u001b[0m\u001b[0m\n\u001b[0;32m--> 909\u001b[0;31m                     \u001b[0mself\u001b[0m\u001b[0;34m.\u001b[0m\u001b[0m_output\u001b[0m\u001b[0;34m.\u001b[0m\u001b[0mextend\u001b[0m\u001b[0;34m(\u001b[0m\u001b[0mjob\u001b[0m\u001b[0;34m.\u001b[0m\u001b[0mget\u001b[0m\u001b[0;34m(\u001b[0m\u001b[0mtimeout\u001b[0m\u001b[0;34m=\u001b[0m\u001b[0mself\u001b[0m\u001b[0;34m.\u001b[0m\u001b[0mtimeout\u001b[0m\u001b[0;34m)\u001b[0m\u001b[0;34m)\u001b[0m\u001b[0;34m\u001b[0m\u001b[0;34m\u001b[0m\u001b[0m\n\u001b[0m\u001b[1;32m    910\u001b[0m                 \u001b[0;32melse\u001b[0m\u001b[0;34m:\u001b[0m\u001b[0;34m\u001b[0m\u001b[0;34m\u001b[0m\u001b[0m\n\u001b[1;32m    911\u001b[0m                     \u001b[0mself\u001b[0m\u001b[0;34m.\u001b[0m\u001b[0m_output\u001b[0m\u001b[0;34m.\u001b[0m\u001b[0mextend\u001b[0m\u001b[0;34m(\u001b[0m\u001b[0mjob\u001b[0m\u001b[0;34m.\u001b[0m\u001b[0mget\u001b[0m\u001b[0;34m(\u001b[0m\u001b[0;34m)\u001b[0m\u001b[0;34m)\u001b[0m\u001b[0;34m\u001b[0m\u001b[0;34m\u001b[0m\u001b[0m\n",
      "\u001b[0;32m~/opt/anaconda3/lib/python3.7/site-packages/joblib/_parallel_backends.py\u001b[0m in \u001b[0;36mwrap_future_result\u001b[0;34m(future, timeout)\u001b[0m\n\u001b[1;32m    560\u001b[0m         AsyncResults.get from multiprocessing.\"\"\"\n\u001b[1;32m    561\u001b[0m         \u001b[0;32mtry\u001b[0m\u001b[0;34m:\u001b[0m\u001b[0;34m\u001b[0m\u001b[0;34m\u001b[0m\u001b[0m\n\u001b[0;32m--> 562\u001b[0;31m             \u001b[0;32mreturn\u001b[0m \u001b[0mfuture\u001b[0m\u001b[0;34m.\u001b[0m\u001b[0mresult\u001b[0m\u001b[0;34m(\u001b[0m\u001b[0mtimeout\u001b[0m\u001b[0;34m=\u001b[0m\u001b[0mtimeout\u001b[0m\u001b[0;34m)\u001b[0m\u001b[0;34m\u001b[0m\u001b[0;34m\u001b[0m\u001b[0m\n\u001b[0m\u001b[1;32m    563\u001b[0m         \u001b[0;32mexcept\u001b[0m \u001b[0mLokyTimeoutError\u001b[0m\u001b[0;34m:\u001b[0m\u001b[0;34m\u001b[0m\u001b[0;34m\u001b[0m\u001b[0m\n\u001b[1;32m    564\u001b[0m             \u001b[0;32mraise\u001b[0m \u001b[0mTimeoutError\u001b[0m\u001b[0;34m(\u001b[0m\u001b[0;34m)\u001b[0m\u001b[0;34m\u001b[0m\u001b[0;34m\u001b[0m\u001b[0m\n",
      "\u001b[0;32m~/opt/anaconda3/lib/python3.7/concurrent/futures/_base.py\u001b[0m in \u001b[0;36mresult\u001b[0;34m(self, timeout)\u001b[0m\n\u001b[1;32m    428\u001b[0m                 \u001b[0;32mreturn\u001b[0m \u001b[0mself\u001b[0m\u001b[0;34m.\u001b[0m\u001b[0m__get_result\u001b[0m\u001b[0;34m(\u001b[0m\u001b[0;34m)\u001b[0m\u001b[0;34m\u001b[0m\u001b[0;34m\u001b[0m\u001b[0m\n\u001b[1;32m    429\u001b[0m \u001b[0;34m\u001b[0m\u001b[0m\n\u001b[0;32m--> 430\u001b[0;31m             \u001b[0mself\u001b[0m\u001b[0;34m.\u001b[0m\u001b[0m_condition\u001b[0m\u001b[0;34m.\u001b[0m\u001b[0mwait\u001b[0m\u001b[0;34m(\u001b[0m\u001b[0mtimeout\u001b[0m\u001b[0;34m)\u001b[0m\u001b[0;34m\u001b[0m\u001b[0;34m\u001b[0m\u001b[0m\n\u001b[0m\u001b[1;32m    431\u001b[0m \u001b[0;34m\u001b[0m\u001b[0m\n\u001b[1;32m    432\u001b[0m             \u001b[0;32mif\u001b[0m \u001b[0mself\u001b[0m\u001b[0;34m.\u001b[0m\u001b[0m_state\u001b[0m \u001b[0;32min\u001b[0m \u001b[0;34m[\u001b[0m\u001b[0mCANCELLED\u001b[0m\u001b[0;34m,\u001b[0m \u001b[0mCANCELLED_AND_NOTIFIED\u001b[0m\u001b[0;34m]\u001b[0m\u001b[0;34m:\u001b[0m\u001b[0;34m\u001b[0m\u001b[0;34m\u001b[0m\u001b[0m\n",
      "\u001b[0;32m~/opt/anaconda3/lib/python3.7/threading.py\u001b[0m in \u001b[0;36mwait\u001b[0;34m(self, timeout)\u001b[0m\n\u001b[1;32m    294\u001b[0m         \u001b[0;32mtry\u001b[0m\u001b[0;34m:\u001b[0m    \u001b[0;31m# restore state no matter what (e.g., KeyboardInterrupt)\u001b[0m\u001b[0;34m\u001b[0m\u001b[0;34m\u001b[0m\u001b[0m\n\u001b[1;32m    295\u001b[0m             \u001b[0;32mif\u001b[0m \u001b[0mtimeout\u001b[0m \u001b[0;32mis\u001b[0m \u001b[0;32mNone\u001b[0m\u001b[0;34m:\u001b[0m\u001b[0;34m\u001b[0m\u001b[0;34m\u001b[0m\u001b[0m\n\u001b[0;32m--> 296\u001b[0;31m                 \u001b[0mwaiter\u001b[0m\u001b[0;34m.\u001b[0m\u001b[0macquire\u001b[0m\u001b[0;34m(\u001b[0m\u001b[0;34m)\u001b[0m\u001b[0;34m\u001b[0m\u001b[0;34m\u001b[0m\u001b[0m\n\u001b[0m\u001b[1;32m    297\u001b[0m                 \u001b[0mgotit\u001b[0m \u001b[0;34m=\u001b[0m \u001b[0;32mTrue\u001b[0m\u001b[0;34m\u001b[0m\u001b[0;34m\u001b[0m\u001b[0m\n\u001b[1;32m    298\u001b[0m             \u001b[0;32melse\u001b[0m\u001b[0;34m:\u001b[0m\u001b[0;34m\u001b[0m\u001b[0;34m\u001b[0m\u001b[0m\n",
      "\u001b[0;31mKeyboardInterrupt\u001b[0m: "
     ]
    }
   ],
   "source": [
    "from sklearn.ensemble import BaggingClassifier\n",
    "\n",
    "# find the best hyperparameters \n",
    "parameters={'n_estimators': range(50, 200, 50),\n",
    "            'max_depth': range(3,8,1),\n",
    "            'max_features': [0.3, 0.5, 0.7, 0.9],\n",
    "            'min_samples_split':range(1,10,2),\n",
    "            'criterion': ['gini', 'entropy'] \n",
    "           }\n",
    "\n",
    "forest = RandomForestClassifier()\n",
    "\n",
    "tree_g = GridSearchCV(forest, parameters, cv=5, scoring='f1', verbose = 1,  n_jobs = -1)\n",
    "tree_g.fit(X_train,y_train)\n",
    "\n",
    "print(tree_g.best_params_, ': ', tree_g.best_score_)\n",
    "\n",
    "y_pred = tree_g.best_estimator_.predict(X_test)    \n",
    "y_pred_train = tree_g.best_estimator_.predict(X_train)    \n",
    "\n",
    "f1_train = round(f1_score(y_train, y_pred_train), 3)\n",
    "f1_test = round(f1_score(y_test, y_pred), 3)\n",
    "\n",
    "print('Train F1 score: ', f1_train)\n",
    "print('Test F1 score: ', f1_test)"
   ]
  },
  {
   "cell_type": "code",
   "execution_count": null,
   "metadata": {},
   "outputs": [],
   "source": [
    "After the gridsearch we see that our data "
   ]
  },
  {
   "cell_type": "markdown",
   "metadata": {},
   "source": [
    "### SVM Model"
   ]
  },
  {
   "cell_type": "code",
   "execution_count": 148,
   "metadata": {},
   "outputs": [
    {
     "name": "stdout",
     "output_type": "stream",
     "text": [
      "Train F1 score:  0.645\n",
      "Test F1 score:  0.501\n"
     ]
    }
   ],
   "source": [
    "#Import svm model\n",
    "from sklearn import svm\n",
    "\n",
    "#Create a svm Classifier\n",
    "svm = svm.SVC() # Linear Kernel\n",
    "\n",
    "#Train the model using the training sets\n",
    "svm.fit(X_train, y_train)\n",
    "\n",
    "#Predict the response for test dataset\n",
    "svm_pred = svm.predict(X_test)\n",
    "svm_pred_train = svm.predict(X_train)\n",
    "\n",
    "#Score\n",
    "svm_f1_train = round(f1_score(y_train, svm_pred_train), 3)\n",
    "svm_f1_test = round(f1_score(y_test, svm_pred), 3)\n",
    "\n",
    "print('Train F1 score: ', svm_f1_train)\n",
    "print('Test F1 score: ', svm_f1_test)"
   ]
  },
  {
   "cell_type": "code",
   "execution_count": 104,
   "metadata": {},
   "outputs": [
    {
     "data": {
      "text/plain": [
       "[Text(0, 0.5, 'Under'), Text(0, 1.5, 'Over')]"
      ]
     },
     "execution_count": 104,
     "metadata": {},
     "output_type": "execute_result"
    },
    {
     "data": {
      "image/png": "[encoded data removed]",
      "text/plain": [
       "<Figure size 864x576 with 2 Axes>"
      ]
     },
     "metadata": {},
     "output_type": "display_data"
    }
   ],
   "source": [
    "#Generate confusion matrix\n",
    "glabels = np.unique(y_test)\n",
    "gcm = confusion_matrix(y_test, svm_pred, labels=glabels) \n",
    "\n",
    "gcm_df = pd.DataFrame(gcm,index=glabels, columns=glabels)\n",
    "\n",
    "#Plot\n",
    "plt.figure(figsize=(12, 8))\n",
    "\n",
    "cm = sns.set(font_scale=1.4)\n",
    "cm = sns.heatmap(gcm_df,\n",
    "            cmap='Greens', \n",
    "            annot=True, \n",
    "            fmt='g')\n",
    "\n",
    "cm.set_title('SVM Confusion Matrix', fontsize = 30)\n",
    "cm.set_ylabel('Actual label', fontsize = 25)\n",
    "cm.set_xlabel('Predicted label', fontsize = 25)\n",
    "cm.xaxis.set_ticklabels(['Under', 'Over'], fontsize = 20)   \n",
    "cm.yaxis.set_ticklabels(['Under', 'Over'], fontsize = 20)\n",
    "#plt.savefig('log_confusion.png')"
   ]
  },
  {
   "cell_type": "markdown",
   "metadata": {},
   "source": [
    "The Support Vector Machine model did not extract great results. With a Test F1 of .489 and Train of .641 it seems that our data seems to be overfit to the training data. "
   ]
  },
  {
   "cell_type": "markdown",
   "metadata": {},
   "source": [
    "# Baseline Final Scores "
   ]
  },
  {
   "cell_type": "code",
   "execution_count": 149,
   "metadata": {},
   "outputs": [
    {
     "name": "stdout",
     "output_type": "stream",
     "text": [
      "Baseline Logistic Regression:\n",
      "      Train F1 score:  0.552\n",
      "      Test F1 score:  0.532\n",
      "\n",
      "Decision Tree:\n",
      "      Train F1 score:  1.0\n",
      "      Test F1 score:  0.513\n",
      "\n",
      "Random Forest:\n",
      "      Train F1 score:  1.0\n",
      "      Test F1 score:  0.527\n",
      "\n",
      "Support Vector Machine:\n",
      "      Train F1 score:  0.645\n",
      "      Test F1 score:  0.501\n"
     ]
    }
   ],
   "source": [
    "print('Baseline Logistic Regression:')\n",
    "print('      Train F1 score: ', base_logred_train_f1_score)\n",
    "print('      Test F1 score: ', base_logreg_test_f1_score)\n",
    "print('')\n",
    "print('Decision Tree:')\n",
    "print('      Train F1 score: ', dtc_f1_train)\n",
    "print('      Test F1 score: ', dtc_f1_test)\n",
    "print('')\n",
    "print('Random Forest:')\n",
    "print('      Train F1 score: ', rfc_f1_train)\n",
    "print('      Test F1 score: ', rfc_f1_test)\n",
    "print('')\n",
    "print('Support Vector Machine:')\n",
    "print('      Train F1 score: ', svm_f1_train)\n",
    "print('      Test F1 score: ', svm_f1_test)"
   ]
  },
  {
   "cell_type": "markdown",
   "metadata": {},
   "source": [
    "The final scores of the baseline models shows that the Logistic Regression and the Decision Tree models are working the best with our data. While there is a slight overfitting simply comparing the the Test to the Train metrics, I still have plenty of room to continue overfitting and see if it will bring up my Test Scores."
   ]
  },
  {
   "cell_type": "markdown",
   "metadata": {},
   "source": [
    "# Baselines + Recursive Feature Elimination"
   ]
  },
  {
   "cell_type": "markdown",
   "metadata": {},
   "source": [
    "Now I will use a Recursive Feature Elimination to try to extract the the most valuable features moving forward in our modeling process."
   ]
  },
  {
   "cell_type": "code",
   "execution_count": 150,
   "metadata": {},
   "outputs": [
    {
     "name": "stdout",
     "output_type": "stream",
     "text": [
      "Fitting estimator with 105 features.\n",
      "Fitting estimator with 104 features.\n"
     ]
    },
    {
     "name": "stderr",
     "output_type": "stream",
     "text": [
      "/Users/alexzieky/opt/anaconda3/lib/python3.7/site-packages/sklearn/linear_model/_logistic.py:764: ConvergenceWarning: lbfgs failed to converge (status=1):\n",
      "STOP: TOTAL NO. of ITERATIONS REACHED LIMIT.\n",
      "\n",
      "Increase the number of iterations (max_iter) or scale the data as shown in:\n",
      "    https://scikit-learn.org/stable/modules/preprocessing.html\n",
      "Please also refer to the documentation for alternative solver options:\n",
      "    https://scikit-learn.org/stable/modules/linear_model.html#logistic-regression\n",
      "  extra_warning_msg=_LOGISTIC_SOLVER_CONVERGENCE_MSG)\n",
      "/Users/alexzieky/opt/anaconda3/lib/python3.7/site-packages/sklearn/linear_model/_logistic.py:764: ConvergenceWarning: lbfgs failed to converge (status=1):\n",
      "STOP: TOTAL NO. of ITERATIONS REACHED LIMIT.\n",
      "\n",
      "Increase the number of iterations (max_iter) or scale the data as shown in:\n",
      "    https://scikit-learn.org/stable/modules/preprocessing.html\n",
      "Please also refer to the documentation for alternative solver options:\n",
      "    https://scikit-learn.org/stable/modules/linear_model.html#logistic-regression\n",
      "  extra_warning_msg=_LOGISTIC_SOLVER_CONVERGENCE_MSG)\n"
     ]
    },
    {
     "name": "stdout",
     "output_type": "stream",
     "text": [
      "Fitting estimator with 103 features.\n",
      "Fitting estimator with 102 features.\n"
     ]
    },
    {
     "name": "stderr",
     "output_type": "stream",
     "text": [
      "/Users/alexzieky/opt/anaconda3/lib/python3.7/site-packages/sklearn/linear_model/_logistic.py:764: ConvergenceWarning: lbfgs failed to converge (status=1):\n",
      "STOP: TOTAL NO. of ITERATIONS REACHED LIMIT.\n",
      "\n",
      "Increase the number of iterations (max_iter) or scale the data as shown in:\n",
      "    https://scikit-learn.org/stable/modules/preprocessing.html\n",
      "Please also refer to the documentation for alternative solver options:\n",
      "    https://scikit-learn.org/stable/modules/linear_model.html#logistic-regression\n",
      "  extra_warning_msg=_LOGISTIC_SOLVER_CONVERGENCE_MSG)\n",
      "/Users/alexzieky/opt/anaconda3/lib/python3.7/site-packages/sklearn/linear_model/_logistic.py:764: ConvergenceWarning: lbfgs failed to converge (status=1):\n",
      "STOP: TOTAL NO. of ITERATIONS REACHED LIMIT.\n",
      "\n",
      "Increase the number of iterations (max_iter) or scale the data as shown in:\n",
      "    https://scikit-learn.org/stable/modules/preprocessing.html\n",
      "Please also refer to the documentation for alternative solver options:\n",
      "    https://scikit-learn.org/stable/modules/linear_model.html#logistic-regression\n",
      "  extra_warning_msg=_LOGISTIC_SOLVER_CONVERGENCE_MSG)\n"
     ]
    },
    {
     "name": "stdout",
     "output_type": "stream",
     "text": [
      "Fitting estimator with 101 features.\n",
      "Fitting estimator with 100 features.\n"
     ]
    },
    {
     "name": "stderr",
     "output_type": "stream",
     "text": [
      "/Users/alexzieky/opt/anaconda3/lib/python3.7/site-packages/sklearn/linear_model/_logistic.py:764: ConvergenceWarning: lbfgs failed to converge (status=1):\n",
      "STOP: TOTAL NO. of ITERATIONS REACHED LIMIT.\n",
      "\n",
      "Increase the number of iterations (max_iter) or scale the data as shown in:\n",
      "    https://scikit-learn.org/stable/modules/preprocessing.html\n",
      "Please also refer to the documentation for alternative solver options:\n",
      "    https://scikit-learn.org/stable/modules/linear_model.html#logistic-regression\n",
      "  extra_warning_msg=_LOGISTIC_SOLVER_CONVERGENCE_MSG)\n",
      "/Users/alexzieky/opt/anaconda3/lib/python3.7/site-packages/sklearn/linear_model/_logistic.py:764: ConvergenceWarning: lbfgs failed to converge (status=1):\n",
      "STOP: TOTAL NO. of ITERATIONS REACHED LIMIT.\n",
      "\n",
      "Increase the number of iterations (max_iter) or scale the data as shown in:\n",
      "    https://scikit-learn.org/stable/modules/preprocessing.html\n",
      "Please also refer to the documentation for alternative solver options:\n",
      "    https://scikit-learn.org/stable/modules/linear_model.html#logistic-regression\n",
      "  extra_warning_msg=_LOGISTIC_SOLVER_CONVERGENCE_MSG)\n"
     ]
    },
    {
     "name": "stdout",
     "output_type": "stream",
     "text": [
      "Fitting estimator with 99 features.\n",
      "Fitting estimator with 98 features.\n"
     ]
    },
    {
     "name": "stderr",
     "output_type": "stream",
     "text": [
      "/Users/alexzieky/opt/anaconda3/lib/python3.7/site-packages/sklearn/linear_model/_logistic.py:764: ConvergenceWarning: lbfgs failed to converge (status=1):\n",
      "STOP: TOTAL NO. of ITERATIONS REACHED LIMIT.\n",
      "\n",
      "Increase the number of iterations (max_iter) or scale the data as shown in:\n",
      "    https://scikit-learn.org/stable/modules/preprocessing.html\n",
      "Please also refer to the documentation for alternative solver options:\n",
      "    https://scikit-learn.org/stable/modules/linear_model.html#logistic-regression\n",
      "  extra_warning_msg=_LOGISTIC_SOLVER_CONVERGENCE_MSG)\n",
      "/Users/alexzieky/opt/anaconda3/lib/python3.7/site-packages/sklearn/linear_model/_logistic.py:764: ConvergenceWarning: lbfgs failed to converge (status=1):\n",
      "STOP: TOTAL NO. of ITERATIONS REACHED LIMIT.\n",
      "\n",
      "Increase the number of iterations (max_iter) or scale the data as shown in:\n",
      "    https://scikit-learn.org/stable/modules/preprocessing.html\n",
      "Please also refer to the documentation for alternative solver options:\n",
      "    https://scikit-learn.org/stable/modules/linear_model.html#logistic-regression\n",
      "  extra_warning_msg=_LOGISTIC_SOLVER_CONVERGENCE_MSG)\n"
     ]
    },
    {
     "name": "stdout",
     "output_type": "stream",
     "text": [
      "Fitting estimator with 97 features.\n",
      "Fitting estimator with 96 features.\n"
     ]
    },
    {
     "name": "stderr",
     "output_type": "stream",
     "text": [
      "/Users/alexzieky/opt/anaconda3/lib/python3.7/site-packages/sklearn/linear_model/_logistic.py:764: ConvergenceWarning: lbfgs failed to converge (status=1):\n",
      "STOP: TOTAL NO. of ITERATIONS REACHED LIMIT.\n",
      "\n",
      "Increase the number of iterations (max_iter) or scale the data as shown in:\n",
      "    https://scikit-learn.org/stable/modules/preprocessing.html\n",
      "Please also refer to the documentation for alternative solver options:\n",
      "    https://scikit-learn.org/stable/modules/linear_model.html#logistic-regression\n",
      "  extra_warning_msg=_LOGISTIC_SOLVER_CONVERGENCE_MSG)\n",
      "/Users/alexzieky/opt/anaconda3/lib/python3.7/site-packages/sklearn/linear_model/_logistic.py:764: ConvergenceWarning: lbfgs failed to converge (status=1):\n",
      "STOP: TOTAL NO. of ITERATIONS REACHED LIMIT.\n",
      "\n",
      "Increase the number of iterations (max_iter) or scale the data as shown in:\n",
      "    https://scikit-learn.org/stable/modules/preprocessing.html\n",
      "Please also refer to the documentation for alternative solver options:\n",
      "    https://scikit-learn.org/stable/modules/linear_model.html#logistic-regression\n",
      "  extra_warning_msg=_LOGISTIC_SOLVER_CONVERGENCE_MSG)\n",
      "/Users/alexzieky/opt/anaconda3/lib/python3.7/site-packages/sklearn/linear_model/_logistic.py:764: ConvergenceWarning: lbfgs failed to converge (status=1):\n",
      "STOP: TOTAL NO. of ITERATIONS REACHED LIMIT.\n",
      "\n",
      "Increase the number of iterations (max_iter) or scale the data as shown in:\n",
      "    https://scikit-learn.org/stable/modules/preprocessing.html\n",
      "Please also refer to the documentation for alternative solver options:\n",
      "    https://scikit-learn.org/stable/modules/linear_model.html#logistic-regression\n",
      "  extra_warning_msg=_LOGISTIC_SOLVER_CONVERGENCE_MSG)\n"
     ]
    },
    {
     "name": "stdout",
     "output_type": "stream",
     "text": [
      "Fitting estimator with 95 features.\n",
      "Fitting estimator with 94 features.\n"
     ]
    },
    {
     "name": "stderr",
     "output_type": "stream",
     "text": [
      "/Users/alexzieky/opt/anaconda3/lib/python3.7/site-packages/sklearn/linear_model/_logistic.py:764: ConvergenceWarning: lbfgs failed to converge (status=1):\n",
      "STOP: TOTAL NO. of ITERATIONS REACHED LIMIT.\n",
      "\n",
      "Increase the number of iterations (max_iter) or scale the data as shown in:\n",
      "    https://scikit-learn.org/stable/modules/preprocessing.html\n",
      "Please also refer to the documentation for alternative solver options:\n",
      "    https://scikit-learn.org/stable/modules/linear_model.html#logistic-regression\n",
      "  extra_warning_msg=_LOGISTIC_SOLVER_CONVERGENCE_MSG)\n",
      "/Users/alexzieky/opt/anaconda3/lib/python3.7/site-packages/sklearn/linear_model/_logistic.py:764: ConvergenceWarning: lbfgs failed to converge (status=1):\n",
      "STOP: TOTAL NO. of ITERATIONS REACHED LIMIT.\n",
      "\n",
      "Increase the number of iterations (max_iter) or scale the data as shown in:\n",
      "    https://scikit-learn.org/stable/modules/preprocessing.html\n",
      "Please also refer to the documentation for alternative solver options:\n",
      "    https://scikit-learn.org/stable/modules/linear_model.html#logistic-regression\n",
      "  extra_warning_msg=_LOGISTIC_SOLVER_CONVERGENCE_MSG)\n",
      "/Users/alexzieky/opt/anaconda3/lib/python3.7/site-packages/sklearn/linear_model/_logistic.py:764: ConvergenceWarning: lbfgs failed to converge (status=1):\n",
      "STOP: TOTAL NO. of ITERATIONS REACHED LIMIT.\n",
      "\n",
      "Increase the number of iterations (max_iter) or scale the data as shown in:\n",
      "    https://scikit-learn.org/stable/modules/preprocessing.html\n",
      "Please also refer to the documentation for alternative solver options:\n",
      "    https://scikit-learn.org/stable/modules/linear_model.html#logistic-regression\n",
      "  extra_warning_msg=_LOGISTIC_SOLVER_CONVERGENCE_MSG)\n"
     ]
    },
    {
     "name": "stdout",
     "output_type": "stream",
     "text": [
      "Fitting estimator with 93 features.\n",
      "Fitting estimator with 92 features.\n",
      "Fitting estimator with 91 features.\n"
     ]
    },
    {
     "name": "stderr",
     "output_type": "stream",
     "text": [
      "/Users/alexzieky/opt/anaconda3/lib/python3.7/site-packages/sklearn/linear_model/_logistic.py:764: ConvergenceWarning: lbfgs failed to converge (status=1):\n",
      "STOP: TOTAL NO. of ITERATIONS REACHED LIMIT.\n",
      "\n",
      "Increase the number of iterations (max_iter) or scale the data as shown in:\n",
      "    https://scikit-learn.org/stable/modules/preprocessing.html\n",
      "Please also refer to the documentation for alternative solver options:\n",
      "    https://scikit-learn.org/stable/modules/linear_model.html#logistic-regression\n",
      "  extra_warning_msg=_LOGISTIC_SOLVER_CONVERGENCE_MSG)\n",
      "/Users/alexzieky/opt/anaconda3/lib/python3.7/site-packages/sklearn/linear_model/_logistic.py:764: ConvergenceWarning: lbfgs failed to converge (status=1):\n",
      "STOP: TOTAL NO. of ITERATIONS REACHED LIMIT.\n",
      "\n",
      "Increase the number of iterations (max_iter) or scale the data as shown in:\n",
      "    https://scikit-learn.org/stable/modules/preprocessing.html\n",
      "Please also refer to the documentation for alternative solver options:\n",
      "    https://scikit-learn.org/stable/modules/linear_model.html#logistic-regression\n",
      "  extra_warning_msg=_LOGISTIC_SOLVER_CONVERGENCE_MSG)\n",
      "/Users/alexzieky/opt/anaconda3/lib/python3.7/site-packages/sklearn/linear_model/_logistic.py:764: ConvergenceWarning: lbfgs failed to converge (status=1):\n",
      "STOP: TOTAL NO. of ITERATIONS REACHED LIMIT.\n",
      "\n",
      "Increase the number of iterations (max_iter) or scale the data as shown in:\n",
      "    https://scikit-learn.org/stable/modules/preprocessing.html\n",
      "Please also refer to the documentation for alternative solver options:\n",
      "    https://scikit-learn.org/stable/modules/linear_model.html#logistic-regression\n",
      "  extra_warning_msg=_LOGISTIC_SOLVER_CONVERGENCE_MSG)\n"
     ]
    },
    {
     "name": "stdout",
     "output_type": "stream",
     "text": [
      "Fitting estimator with 90 features.\n",
      "Fitting estimator with 89 features.\n",
      "Fitting estimator with 88 features.\n"
     ]
    },
    {
     "name": "stderr",
     "output_type": "stream",
     "text": [
      "/Users/alexzieky/opt/anaconda3/lib/python3.7/site-packages/sklearn/linear_model/_logistic.py:764: ConvergenceWarning: lbfgs failed to converge (status=1):\n",
      "STOP: TOTAL NO. of ITERATIONS REACHED LIMIT.\n",
      "\n",
      "Increase the number of iterations (max_iter) or scale the data as shown in:\n",
      "    https://scikit-learn.org/stable/modules/preprocessing.html\n",
      "Please also refer to the documentation for alternative solver options:\n",
      "    https://scikit-learn.org/stable/modules/linear_model.html#logistic-regression\n",
      "  extra_warning_msg=_LOGISTIC_SOLVER_CONVERGENCE_MSG)\n",
      "/Users/alexzieky/opt/anaconda3/lib/python3.7/site-packages/sklearn/linear_model/_logistic.py:764: ConvergenceWarning: lbfgs failed to converge (status=1):\n",
      "STOP: TOTAL NO. of ITERATIONS REACHED LIMIT.\n",
      "\n",
      "Increase the number of iterations (max_iter) or scale the data as shown in:\n",
      "    https://scikit-learn.org/stable/modules/preprocessing.html\n",
      "Please also refer to the documentation for alternative solver options:\n",
      "    https://scikit-learn.org/stable/modules/linear_model.html#logistic-regression\n",
      "  extra_warning_msg=_LOGISTIC_SOLVER_CONVERGENCE_MSG)\n",
      "/Users/alexzieky/opt/anaconda3/lib/python3.7/site-packages/sklearn/linear_model/_logistic.py:764: ConvergenceWarning: lbfgs failed to converge (status=1):\n",
      "STOP: TOTAL NO. of ITERATIONS REACHED LIMIT.\n",
      "\n",
      "Increase the number of iterations (max_iter) or scale the data as shown in:\n",
      "    https://scikit-learn.org/stable/modules/preprocessing.html\n",
      "Please also refer to the documentation for alternative solver options:\n",
      "    https://scikit-learn.org/stable/modules/linear_model.html#logistic-regression\n",
      "  extra_warning_msg=_LOGISTIC_SOLVER_CONVERGENCE_MSG)\n"
     ]
    },
    {
     "name": "stdout",
     "output_type": "stream",
     "text": [
      "Fitting estimator with 87 features.\n",
      "Fitting estimator with 86 features.\n",
      "Fitting estimator with 85 features.\n"
     ]
    },
    {
     "name": "stderr",
     "output_type": "stream",
     "text": [
      "/Users/alexzieky/opt/anaconda3/lib/python3.7/site-packages/sklearn/linear_model/_logistic.py:764: ConvergenceWarning: lbfgs failed to converge (status=1):\n",
      "STOP: TOTAL NO. of ITERATIONS REACHED LIMIT.\n",
      "\n",
      "Increase the number of iterations (max_iter) or scale the data as shown in:\n",
      "    https://scikit-learn.org/stable/modules/preprocessing.html\n",
      "Please also refer to the documentation for alternative solver options:\n",
      "    https://scikit-learn.org/stable/modules/linear_model.html#logistic-regression\n",
      "  extra_warning_msg=_LOGISTIC_SOLVER_CONVERGENCE_MSG)\n",
      "/Users/alexzieky/opt/anaconda3/lib/python3.7/site-packages/sklearn/linear_model/_logistic.py:764: ConvergenceWarning: lbfgs failed to converge (status=1):\n",
      "STOP: TOTAL NO. of ITERATIONS REACHED LIMIT.\n",
      "\n",
      "Increase the number of iterations (max_iter) or scale the data as shown in:\n",
      "    https://scikit-learn.org/stable/modules/preprocessing.html\n",
      "Please also refer to the documentation for alternative solver options:\n",
      "    https://scikit-learn.org/stable/modules/linear_model.html#logistic-regression\n",
      "  extra_warning_msg=_LOGISTIC_SOLVER_CONVERGENCE_MSG)\n",
      "/Users/alexzieky/opt/anaconda3/lib/python3.7/site-packages/sklearn/linear_model/_logistic.py:764: ConvergenceWarning: lbfgs failed to converge (status=1):\n",
      "STOP: TOTAL NO. of ITERATIONS REACHED LIMIT.\n",
      "\n",
      "Increase the number of iterations (max_iter) or scale the data as shown in:\n",
      "    https://scikit-learn.org/stable/modules/preprocessing.html\n",
      "Please also refer to the documentation for alternative solver options:\n",
      "    https://scikit-learn.org/stable/modules/linear_model.html#logistic-regression\n",
      "  extra_warning_msg=_LOGISTIC_SOLVER_CONVERGENCE_MSG)\n"
     ]
    },
    {
     "name": "stdout",
     "output_type": "stream",
     "text": [
      "Fitting estimator with 84 features.\n",
      "Fitting estimator with 83 features.\n",
      "Fitting estimator with 82 features.\n"
     ]
    },
    {
     "name": "stderr",
     "output_type": "stream",
     "text": [
      "/Users/alexzieky/opt/anaconda3/lib/python3.7/site-packages/sklearn/linear_model/_logistic.py:764: ConvergenceWarning: lbfgs failed to converge (status=1):\n",
      "STOP: TOTAL NO. of ITERATIONS REACHED LIMIT.\n",
      "\n",
      "Increase the number of iterations (max_iter) or scale the data as shown in:\n",
      "    https://scikit-learn.org/stable/modules/preprocessing.html\n",
      "Please also refer to the documentation for alternative solver options:\n",
      "    https://scikit-learn.org/stable/modules/linear_model.html#logistic-regression\n",
      "  extra_warning_msg=_LOGISTIC_SOLVER_CONVERGENCE_MSG)\n",
      "/Users/alexzieky/opt/anaconda3/lib/python3.7/site-packages/sklearn/linear_model/_logistic.py:764: ConvergenceWarning: lbfgs failed to converge (status=1):\n",
      "STOP: TOTAL NO. of ITERATIONS REACHED LIMIT.\n",
      "\n",
      "Increase the number of iterations (max_iter) or scale the data as shown in:\n",
      "    https://scikit-learn.org/stable/modules/preprocessing.html\n",
      "Please also refer to the documentation for alternative solver options:\n",
      "    https://scikit-learn.org/stable/modules/linear_model.html#logistic-regression\n",
      "  extra_warning_msg=_LOGISTIC_SOLVER_CONVERGENCE_MSG)\n",
      "/Users/alexzieky/opt/anaconda3/lib/python3.7/site-packages/sklearn/linear_model/_logistic.py:764: ConvergenceWarning: lbfgs failed to converge (status=1):\n",
      "STOP: TOTAL NO. of ITERATIONS REACHED LIMIT.\n",
      "\n",
      "Increase the number of iterations (max_iter) or scale the data as shown in:\n",
      "    https://scikit-learn.org/stable/modules/preprocessing.html\n",
      "Please also refer to the documentation for alternative solver options:\n",
      "    https://scikit-learn.org/stable/modules/linear_model.html#logistic-regression\n",
      "  extra_warning_msg=_LOGISTIC_SOLVER_CONVERGENCE_MSG)\n"
     ]
    },
    {
     "name": "stdout",
     "output_type": "stream",
     "text": [
      "Fitting estimator with 81 features.\n",
      "Fitting estimator with 80 features.\n",
      "Fitting estimator with 79 features.\n"
     ]
    },
    {
     "name": "stderr",
     "output_type": "stream",
     "text": [
      "/Users/alexzieky/opt/anaconda3/lib/python3.7/site-packages/sklearn/linear_model/_logistic.py:764: ConvergenceWarning: lbfgs failed to converge (status=1):\n",
      "STOP: TOTAL NO. of ITERATIONS REACHED LIMIT.\n",
      "\n",
      "Increase the number of iterations (max_iter) or scale the data as shown in:\n",
      "    https://scikit-learn.org/stable/modules/preprocessing.html\n",
      "Please also refer to the documentation for alternative solver options:\n",
      "    https://scikit-learn.org/stable/modules/linear_model.html#logistic-regression\n",
      "  extra_warning_msg=_LOGISTIC_SOLVER_CONVERGENCE_MSG)\n",
      "/Users/alexzieky/opt/anaconda3/lib/python3.7/site-packages/sklearn/linear_model/_logistic.py:764: ConvergenceWarning: lbfgs failed to converge (status=1):\n",
      "STOP: TOTAL NO. of ITERATIONS REACHED LIMIT.\n",
      "\n",
      "Increase the number of iterations (max_iter) or scale the data as shown in:\n",
      "    https://scikit-learn.org/stable/modules/preprocessing.html\n",
      "Please also refer to the documentation for alternative solver options:\n",
      "    https://scikit-learn.org/stable/modules/linear_model.html#logistic-regression\n",
      "  extra_warning_msg=_LOGISTIC_SOLVER_CONVERGENCE_MSG)\n",
      "/Users/alexzieky/opt/anaconda3/lib/python3.7/site-packages/sklearn/linear_model/_logistic.py:764: ConvergenceWarning: lbfgs failed to converge (status=1):\n",
      "STOP: TOTAL NO. of ITERATIONS REACHED LIMIT.\n",
      "\n",
      "Increase the number of iterations (max_iter) or scale the data as shown in:\n",
      "    https://scikit-learn.org/stable/modules/preprocessing.html\n",
      "Please also refer to the documentation for alternative solver options:\n",
      "    https://scikit-learn.org/stable/modules/linear_model.html#logistic-regression\n",
      "  extra_warning_msg=_LOGISTIC_SOLVER_CONVERGENCE_MSG)\n"
     ]
    },
    {
     "name": "stdout",
     "output_type": "stream",
     "text": [
      "Fitting estimator with 78 features.\n",
      "Fitting estimator with 77 features.\n",
      "Fitting estimator with 76 features.\n"
     ]
    },
    {
     "name": "stderr",
     "output_type": "stream",
     "text": [
      "/Users/alexzieky/opt/anaconda3/lib/python3.7/site-packages/sklearn/linear_model/_logistic.py:764: ConvergenceWarning: lbfgs failed to converge (status=1):\n",
      "STOP: TOTAL NO. of ITERATIONS REACHED LIMIT.\n",
      "\n",
      "Increase the number of iterations (max_iter) or scale the data as shown in:\n",
      "    https://scikit-learn.org/stable/modules/preprocessing.html\n",
      "Please also refer to the documentation for alternative solver options:\n",
      "    https://scikit-learn.org/stable/modules/linear_model.html#logistic-regression\n",
      "  extra_warning_msg=_LOGISTIC_SOLVER_CONVERGENCE_MSG)\n",
      "/Users/alexzieky/opt/anaconda3/lib/python3.7/site-packages/sklearn/linear_model/_logistic.py:764: ConvergenceWarning: lbfgs failed to converge (status=1):\n",
      "STOP: TOTAL NO. of ITERATIONS REACHED LIMIT.\n",
      "\n",
      "Increase the number of iterations (max_iter) or scale the data as shown in:\n",
      "    https://scikit-learn.org/stable/modules/preprocessing.html\n",
      "Please also refer to the documentation for alternative solver options:\n",
      "    https://scikit-learn.org/stable/modules/linear_model.html#logistic-regression\n",
      "  extra_warning_msg=_LOGISTIC_SOLVER_CONVERGENCE_MSG)\n",
      "/Users/alexzieky/opt/anaconda3/lib/python3.7/site-packages/sklearn/linear_model/_logistic.py:764: ConvergenceWarning: lbfgs failed to converge (status=1):\n",
      "STOP: TOTAL NO. of ITERATIONS REACHED LIMIT.\n",
      "\n",
      "Increase the number of iterations (max_iter) or scale the data as shown in:\n",
      "    https://scikit-learn.org/stable/modules/preprocessing.html\n",
      "Please also refer to the documentation for alternative solver options:\n",
      "    https://scikit-learn.org/stable/modules/linear_model.html#logistic-regression\n",
      "  extra_warning_msg=_LOGISTIC_SOLVER_CONVERGENCE_MSG)\n"
     ]
    },
    {
     "name": "stdout",
     "output_type": "stream",
     "text": [
      "Fitting estimator with 75 features.\n",
      "Fitting estimator with 74 features.\n",
      "Fitting estimator with 73 features.\n"
     ]
    },
    {
     "name": "stderr",
     "output_type": "stream",
     "text": [
      "/Users/alexzieky/opt/anaconda3/lib/python3.7/site-packages/sklearn/linear_model/_logistic.py:764: ConvergenceWarning: lbfgs failed to converge (status=1):\n",
      "STOP: TOTAL NO. of ITERATIONS REACHED LIMIT.\n",
      "\n",
      "Increase the number of iterations (max_iter) or scale the data as shown in:\n",
      "    https://scikit-learn.org/stable/modules/preprocessing.html\n",
      "Please also refer to the documentation for alternative solver options:\n",
      "    https://scikit-learn.org/stable/modules/linear_model.html#logistic-regression\n",
      "  extra_warning_msg=_LOGISTIC_SOLVER_CONVERGENCE_MSG)\n",
      "/Users/alexzieky/opt/anaconda3/lib/python3.7/site-packages/sklearn/linear_model/_logistic.py:764: ConvergenceWarning: lbfgs failed to converge (status=1):\n",
      "STOP: TOTAL NO. of ITERATIONS REACHED LIMIT.\n",
      "\n",
      "Increase the number of iterations (max_iter) or scale the data as shown in:\n",
      "    https://scikit-learn.org/stable/modules/preprocessing.html\n",
      "Please also refer to the documentation for alternative solver options:\n",
      "    https://scikit-learn.org/stable/modules/linear_model.html#logistic-regression\n",
      "  extra_warning_msg=_LOGISTIC_SOLVER_CONVERGENCE_MSG)\n"
     ]
    },
    {
     "name": "stdout",
     "output_type": "stream",
     "text": [
      "Fitting estimator with 72 features.\n",
      "Fitting estimator with 71 features.\n"
     ]
    },
    {
     "name": "stderr",
     "output_type": "stream",
     "text": [
      "/Users/alexzieky/opt/anaconda3/lib/python3.7/site-packages/sklearn/linear_model/_logistic.py:764: ConvergenceWarning: lbfgs failed to converge (status=1):\n",
      "STOP: TOTAL NO. of ITERATIONS REACHED LIMIT.\n",
      "\n",
      "Increase the number of iterations (max_iter) or scale the data as shown in:\n",
      "    https://scikit-learn.org/stable/modules/preprocessing.html\n",
      "Please also refer to the documentation for alternative solver options:\n",
      "    https://scikit-learn.org/stable/modules/linear_model.html#logistic-regression\n",
      "  extra_warning_msg=_LOGISTIC_SOLVER_CONVERGENCE_MSG)\n",
      "/Users/alexzieky/opt/anaconda3/lib/python3.7/site-packages/sklearn/linear_model/_logistic.py:764: ConvergenceWarning: lbfgs failed to converge (status=1):\n",
      "STOP: TOTAL NO. of ITERATIONS REACHED LIMIT.\n",
      "\n",
      "Increase the number of iterations (max_iter) or scale the data as shown in:\n",
      "    https://scikit-learn.org/stable/modules/preprocessing.html\n",
      "Please also refer to the documentation for alternative solver options:\n",
      "    https://scikit-learn.org/stable/modules/linear_model.html#logistic-regression\n",
      "  extra_warning_msg=_LOGISTIC_SOLVER_CONVERGENCE_MSG)\n"
     ]
    },
    {
     "name": "stdout",
     "output_type": "stream",
     "text": [
      "Fitting estimator with 70 features.\n",
      "Fitting estimator with 69 features.\n"
     ]
    },
    {
     "name": "stderr",
     "output_type": "stream",
     "text": [
      "/Users/alexzieky/opt/anaconda3/lib/python3.7/site-packages/sklearn/linear_model/_logistic.py:764: ConvergenceWarning: lbfgs failed to converge (status=1):\n",
      "STOP: TOTAL NO. of ITERATIONS REACHED LIMIT.\n",
      "\n",
      "Increase the number of iterations (max_iter) or scale the data as shown in:\n",
      "    https://scikit-learn.org/stable/modules/preprocessing.html\n",
      "Please also refer to the documentation for alternative solver options:\n",
      "    https://scikit-learn.org/stable/modules/linear_model.html#logistic-regression\n",
      "  extra_warning_msg=_LOGISTIC_SOLVER_CONVERGENCE_MSG)\n",
      "/Users/alexzieky/opt/anaconda3/lib/python3.7/site-packages/sklearn/linear_model/_logistic.py:764: ConvergenceWarning: lbfgs failed to converge (status=1):\n",
      "STOP: TOTAL NO. of ITERATIONS REACHED LIMIT.\n",
      "\n",
      "Increase the number of iterations (max_iter) or scale the data as shown in:\n",
      "    https://scikit-learn.org/stable/modules/preprocessing.html\n",
      "Please also refer to the documentation for alternative solver options:\n",
      "    https://scikit-learn.org/stable/modules/linear_model.html#logistic-regression\n",
      "  extra_warning_msg=_LOGISTIC_SOLVER_CONVERGENCE_MSG)\n"
     ]
    },
    {
     "name": "stdout",
     "output_type": "stream",
     "text": [
      "Fitting estimator with 68 features.\n",
      "Fitting estimator with 67 features.\n"
     ]
    },
    {
     "name": "stderr",
     "output_type": "stream",
     "text": [
      "/Users/alexzieky/opt/anaconda3/lib/python3.7/site-packages/sklearn/linear_model/_logistic.py:764: ConvergenceWarning: lbfgs failed to converge (status=1):\n",
      "STOP: TOTAL NO. of ITERATIONS REACHED LIMIT.\n",
      "\n",
      "Increase the number of iterations (max_iter) or scale the data as shown in:\n",
      "    https://scikit-learn.org/stable/modules/preprocessing.html\n",
      "Please also refer to the documentation for alternative solver options:\n",
      "    https://scikit-learn.org/stable/modules/linear_model.html#logistic-regression\n",
      "  extra_warning_msg=_LOGISTIC_SOLVER_CONVERGENCE_MSG)\n",
      "/Users/alexzieky/opt/anaconda3/lib/python3.7/site-packages/sklearn/linear_model/_logistic.py:764: ConvergenceWarning: lbfgs failed to converge (status=1):\n",
      "STOP: TOTAL NO. of ITERATIONS REACHED LIMIT.\n",
      "\n",
      "Increase the number of iterations (max_iter) or scale the data as shown in:\n",
      "    https://scikit-learn.org/stable/modules/preprocessing.html\n",
      "Please also refer to the documentation for alternative solver options:\n",
      "    https://scikit-learn.org/stable/modules/linear_model.html#logistic-regression\n",
      "  extra_warning_msg=_LOGISTIC_SOLVER_CONVERGENCE_MSG)\n"
     ]
    },
    {
     "name": "stdout",
     "output_type": "stream",
     "text": [
      "Fitting estimator with 66 features.\n",
      "Fitting estimator with 65 features.\n"
     ]
    },
    {
     "name": "stderr",
     "output_type": "stream",
     "text": [
      "/Users/alexzieky/opt/anaconda3/lib/python3.7/site-packages/sklearn/linear_model/_logistic.py:764: ConvergenceWarning: lbfgs failed to converge (status=1):\n",
      "STOP: TOTAL NO. of ITERATIONS REACHED LIMIT.\n",
      "\n",
      "Increase the number of iterations (max_iter) or scale the data as shown in:\n",
      "    https://scikit-learn.org/stable/modules/preprocessing.html\n",
      "Please also refer to the documentation for alternative solver options:\n",
      "    https://scikit-learn.org/stable/modules/linear_model.html#logistic-regression\n",
      "  extra_warning_msg=_LOGISTIC_SOLVER_CONVERGENCE_MSG)\n",
      "/Users/alexzieky/opt/anaconda3/lib/python3.7/site-packages/sklearn/linear_model/_logistic.py:764: ConvergenceWarning: lbfgs failed to converge (status=1):\n",
      "STOP: TOTAL NO. of ITERATIONS REACHED LIMIT.\n",
      "\n",
      "Increase the number of iterations (max_iter) or scale the data as shown in:\n",
      "    https://scikit-learn.org/stable/modules/preprocessing.html\n",
      "Please also refer to the documentation for alternative solver options:\n",
      "    https://scikit-learn.org/stable/modules/linear_model.html#logistic-regression\n",
      "  extra_warning_msg=_LOGISTIC_SOLVER_CONVERGENCE_MSG)\n"
     ]
    },
    {
     "name": "stdout",
     "output_type": "stream",
     "text": [
      "Fitting estimator with 64 features.\n",
      "Fitting estimator with 63 features.\n"
     ]
    },
    {
     "name": "stderr",
     "output_type": "stream",
     "text": [
      "/Users/alexzieky/opt/anaconda3/lib/python3.7/site-packages/sklearn/linear_model/_logistic.py:764: ConvergenceWarning: lbfgs failed to converge (status=1):\n",
      "STOP: TOTAL NO. of ITERATIONS REACHED LIMIT.\n",
      "\n",
      "Increase the number of iterations (max_iter) or scale the data as shown in:\n",
      "    https://scikit-learn.org/stable/modules/preprocessing.html\n",
      "Please also refer to the documentation for alternative solver options:\n",
      "    https://scikit-learn.org/stable/modules/linear_model.html#logistic-regression\n",
      "  extra_warning_msg=_LOGISTIC_SOLVER_CONVERGENCE_MSG)\n",
      "/Users/alexzieky/opt/anaconda3/lib/python3.7/site-packages/sklearn/linear_model/_logistic.py:764: ConvergenceWarning: lbfgs failed to converge (status=1):\n",
      "STOP: TOTAL NO. of ITERATIONS REACHED LIMIT.\n",
      "\n",
      "Increase the number of iterations (max_iter) or scale the data as shown in:\n",
      "    https://scikit-learn.org/stable/modules/preprocessing.html\n",
      "Please also refer to the documentation for alternative solver options:\n",
      "    https://scikit-learn.org/stable/modules/linear_model.html#logistic-regression\n",
      "  extra_warning_msg=_LOGISTIC_SOLVER_CONVERGENCE_MSG)\n",
      "/Users/alexzieky/opt/anaconda3/lib/python3.7/site-packages/sklearn/linear_model/_logistic.py:764: ConvergenceWarning: lbfgs failed to converge (status=1):\n",
      "STOP: TOTAL NO. of ITERATIONS REACHED LIMIT.\n",
      "\n",
      "Increase the number of iterations (max_iter) or scale the data as shown in:\n",
      "    https://scikit-learn.org/stable/modules/preprocessing.html\n",
      "Please also refer to the documentation for alternative solver options:\n",
      "    https://scikit-learn.org/stable/modules/linear_model.html#logistic-regression\n",
      "  extra_warning_msg=_LOGISTIC_SOLVER_CONVERGENCE_MSG)\n"
     ]
    },
    {
     "name": "stdout",
     "output_type": "stream",
     "text": [
      "Fitting estimator with 62 features.\n",
      "Fitting estimator with 61 features.\n",
      "Fitting estimator with 60 features.\n",
      "Fitting estimator with 59 features.\n"
     ]
    },
    {
     "name": "stderr",
     "output_type": "stream",
     "text": [
      "/Users/alexzieky/opt/anaconda3/lib/python3.7/site-packages/sklearn/linear_model/_logistic.py:764: ConvergenceWarning: lbfgs failed to converge (status=1):\n",
      "STOP: TOTAL NO. of ITERATIONS REACHED LIMIT.\n",
      "\n",
      "Increase the number of iterations (max_iter) or scale the data as shown in:\n",
      "    https://scikit-learn.org/stable/modules/preprocessing.html\n",
      "Please also refer to the documentation for alternative solver options:\n",
      "    https://scikit-learn.org/stable/modules/linear_model.html#logistic-regression\n",
      "  extra_warning_msg=_LOGISTIC_SOLVER_CONVERGENCE_MSG)\n",
      "/Users/alexzieky/opt/anaconda3/lib/python3.7/site-packages/sklearn/linear_model/_logistic.py:764: ConvergenceWarning: lbfgs failed to converge (status=1):\n",
      "STOP: TOTAL NO. of ITERATIONS REACHED LIMIT.\n",
      "\n",
      "Increase the number of iterations (max_iter) or scale the data as shown in:\n",
      "    https://scikit-learn.org/stable/modules/preprocessing.html\n",
      "Please also refer to the documentation for alternative solver options:\n",
      "    https://scikit-learn.org/stable/modules/linear_model.html#logistic-regression\n",
      "  extra_warning_msg=_LOGISTIC_SOLVER_CONVERGENCE_MSG)\n",
      "/Users/alexzieky/opt/anaconda3/lib/python3.7/site-packages/sklearn/linear_model/_logistic.py:764: ConvergenceWarning: lbfgs failed to converge (status=1):\n",
      "STOP: TOTAL NO. of ITERATIONS REACHED LIMIT.\n",
      "\n",
      "Increase the number of iterations (max_iter) or scale the data as shown in:\n",
      "    https://scikit-learn.org/stable/modules/preprocessing.html\n",
      "Please also refer to the documentation for alternative solver options:\n",
      "    https://scikit-learn.org/stable/modules/linear_model.html#logistic-regression\n",
      "  extra_warning_msg=_LOGISTIC_SOLVER_CONVERGENCE_MSG)\n"
     ]
    },
    {
     "name": "stdout",
     "output_type": "stream",
     "text": [
      "Fitting estimator with 58 features.\n",
      "Fitting estimator with 57 features.\n",
      "Fitting estimator with 56 features.\n"
     ]
    },
    {
     "name": "stderr",
     "output_type": "stream",
     "text": [
      "/Users/alexzieky/opt/anaconda3/lib/python3.7/site-packages/sklearn/linear_model/_logistic.py:764: ConvergenceWarning: lbfgs failed to converge (status=1):\n",
      "STOP: TOTAL NO. of ITERATIONS REACHED LIMIT.\n",
      "\n",
      "Increase the number of iterations (max_iter) or scale the data as shown in:\n",
      "    https://scikit-learn.org/stable/modules/preprocessing.html\n",
      "Please also refer to the documentation for alternative solver options:\n",
      "    https://scikit-learn.org/stable/modules/linear_model.html#logistic-regression\n",
      "  extra_warning_msg=_LOGISTIC_SOLVER_CONVERGENCE_MSG)\n",
      "/Users/alexzieky/opt/anaconda3/lib/python3.7/site-packages/sklearn/linear_model/_logistic.py:764: ConvergenceWarning: lbfgs failed to converge (status=1):\n",
      "STOP: TOTAL NO. of ITERATIONS REACHED LIMIT.\n",
      "\n",
      "Increase the number of iterations (max_iter) or scale the data as shown in:\n",
      "    https://scikit-learn.org/stable/modules/preprocessing.html\n",
      "Please also refer to the documentation for alternative solver options:\n",
      "    https://scikit-learn.org/stable/modules/linear_model.html#logistic-regression\n",
      "  extra_warning_msg=_LOGISTIC_SOLVER_CONVERGENCE_MSG)\n",
      "/Users/alexzieky/opt/anaconda3/lib/python3.7/site-packages/sklearn/linear_model/_logistic.py:764: ConvergenceWarning: lbfgs failed to converge (status=1):\n",
      "STOP: TOTAL NO. of ITERATIONS REACHED LIMIT.\n",
      "\n",
      "Increase the number of iterations (max_iter) or scale the data as shown in:\n",
      "    https://scikit-learn.org/stable/modules/preprocessing.html\n",
      "Please also refer to the documentation for alternative solver options:\n",
      "    https://scikit-learn.org/stable/modules/linear_model.html#logistic-regression\n",
      "  extra_warning_msg=_LOGISTIC_SOLVER_CONVERGENCE_MSG)\n"
     ]
    },
    {
     "name": "stdout",
     "output_type": "stream",
     "text": [
      "Fitting estimator with 55 features.\n",
      "Fitting estimator with 54 features.\n",
      "Fitting estimator with 53 features.\n"
     ]
    },
    {
     "name": "stderr",
     "output_type": "stream",
     "text": [
      "/Users/alexzieky/opt/anaconda3/lib/python3.7/site-packages/sklearn/linear_model/_logistic.py:764: ConvergenceWarning: lbfgs failed to converge (status=1):\n",
      "STOP: TOTAL NO. of ITERATIONS REACHED LIMIT.\n",
      "\n",
      "Increase the number of iterations (max_iter) or scale the data as shown in:\n",
      "    https://scikit-learn.org/stable/modules/preprocessing.html\n",
      "Please also refer to the documentation for alternative solver options:\n",
      "    https://scikit-learn.org/stable/modules/linear_model.html#logistic-regression\n",
      "  extra_warning_msg=_LOGISTIC_SOLVER_CONVERGENCE_MSG)\n",
      "/Users/alexzieky/opt/anaconda3/lib/python3.7/site-packages/sklearn/linear_model/_logistic.py:764: ConvergenceWarning: lbfgs failed to converge (status=1):\n",
      "STOP: TOTAL NO. of ITERATIONS REACHED LIMIT.\n",
      "\n",
      "Increase the number of iterations (max_iter) or scale the data as shown in:\n",
      "    https://scikit-learn.org/stable/modules/preprocessing.html\n",
      "Please also refer to the documentation for alternative solver options:\n",
      "    https://scikit-learn.org/stable/modules/linear_model.html#logistic-regression\n",
      "  extra_warning_msg=_LOGISTIC_SOLVER_CONVERGENCE_MSG)\n",
      "/Users/alexzieky/opt/anaconda3/lib/python3.7/site-packages/sklearn/linear_model/_logistic.py:764: ConvergenceWarning: lbfgs failed to converge (status=1):\n",
      "STOP: TOTAL NO. of ITERATIONS REACHED LIMIT.\n",
      "\n",
      "Increase the number of iterations (max_iter) or scale the data as shown in:\n",
      "    https://scikit-learn.org/stable/modules/preprocessing.html\n",
      "Please also refer to the documentation for alternative solver options:\n",
      "    https://scikit-learn.org/stable/modules/linear_model.html#logistic-regression\n",
      "  extra_warning_msg=_LOGISTIC_SOLVER_CONVERGENCE_MSG)\n"
     ]
    },
    {
     "name": "stdout",
     "output_type": "stream",
     "text": [
      "Fitting estimator with 52 features.\n",
      "Fitting estimator with 51 features.\n"
     ]
    },
    {
     "name": "stderr",
     "output_type": "stream",
     "text": [
      "/Users/alexzieky/opt/anaconda3/lib/python3.7/site-packages/sklearn/linear_model/_logistic.py:764: ConvergenceWarning: lbfgs failed to converge (status=1):\n",
      "STOP: TOTAL NO. of ITERATIONS REACHED LIMIT.\n",
      "\n",
      "Increase the number of iterations (max_iter) or scale the data as shown in:\n",
      "    https://scikit-learn.org/stable/modules/preprocessing.html\n",
      "Please also refer to the documentation for alternative solver options:\n",
      "    https://scikit-learn.org/stable/modules/linear_model.html#logistic-regression\n",
      "  extra_warning_msg=_LOGISTIC_SOLVER_CONVERGENCE_MSG)\n",
      "/Users/alexzieky/opt/anaconda3/lib/python3.7/site-packages/sklearn/linear_model/_logistic.py:764: ConvergenceWarning: lbfgs failed to converge (status=1):\n",
      "STOP: TOTAL NO. of ITERATIONS REACHED LIMIT.\n",
      "\n",
      "Increase the number of iterations (max_iter) or scale the data as shown in:\n",
      "    https://scikit-learn.org/stable/modules/preprocessing.html\n",
      "Please also refer to the documentation for alternative solver options:\n",
      "    https://scikit-learn.org/stable/modules/linear_model.html#logistic-regression\n",
      "  extra_warning_msg=_LOGISTIC_SOLVER_CONVERGENCE_MSG)\n",
      "/Users/alexzieky/opt/anaconda3/lib/python3.7/site-packages/sklearn/linear_model/_logistic.py:764: ConvergenceWarning: lbfgs failed to converge (status=1):\n",
      "STOP: TOTAL NO. of ITERATIONS REACHED LIMIT.\n",
      "\n",
      "Increase the number of iterations (max_iter) or scale the data as shown in:\n",
      "    https://scikit-learn.org/stable/modules/preprocessing.html\n",
      "Please also refer to the documentation for alternative solver options:\n",
      "    https://scikit-learn.org/stable/modules/linear_model.html#logistic-regression\n",
      "  extra_warning_msg=_LOGISTIC_SOLVER_CONVERGENCE_MSG)\n"
     ]
    },
    {
     "name": "stdout",
     "output_type": "stream",
     "text": [
      "Fitting estimator with 50 features.\n",
      "Fitting estimator with 49 features.\n",
      "Fitting estimator with 48 features.\n"
     ]
    },
    {
     "name": "stderr",
     "output_type": "stream",
     "text": [
      "/Users/alexzieky/opt/anaconda3/lib/python3.7/site-packages/sklearn/linear_model/_logistic.py:764: ConvergenceWarning: lbfgs failed to converge (status=1):\n",
      "STOP: TOTAL NO. of ITERATIONS REACHED LIMIT.\n",
      "\n",
      "Increase the number of iterations (max_iter) or scale the data as shown in:\n",
      "    https://scikit-learn.org/stable/modules/preprocessing.html\n",
      "Please also refer to the documentation for alternative solver options:\n",
      "    https://scikit-learn.org/stable/modules/linear_model.html#logistic-regression\n",
      "  extra_warning_msg=_LOGISTIC_SOLVER_CONVERGENCE_MSG)\n",
      "/Users/alexzieky/opt/anaconda3/lib/python3.7/site-packages/sklearn/linear_model/_logistic.py:764: ConvergenceWarning: lbfgs failed to converge (status=1):\n",
      "STOP: TOTAL NO. of ITERATIONS REACHED LIMIT.\n",
      "\n",
      "Increase the number of iterations (max_iter) or scale the data as shown in:\n",
      "    https://scikit-learn.org/stable/modules/preprocessing.html\n",
      "Please also refer to the documentation for alternative solver options:\n",
      "    https://scikit-learn.org/stable/modules/linear_model.html#logistic-regression\n",
      "  extra_warning_msg=_LOGISTIC_SOLVER_CONVERGENCE_MSG)\n",
      "/Users/alexzieky/opt/anaconda3/lib/python3.7/site-packages/sklearn/linear_model/_logistic.py:764: ConvergenceWarning: lbfgs failed to converge (status=1):\n",
      "STOP: TOTAL NO. of ITERATIONS REACHED LIMIT.\n",
      "\n",
      "Increase the number of iterations (max_iter) or scale the data as shown in:\n",
      "    https://scikit-learn.org/stable/modules/preprocessing.html\n",
      "Please also refer to the documentation for alternative solver options:\n",
      "    https://scikit-learn.org/stable/modules/linear_model.html#logistic-regression\n",
      "  extra_warning_msg=_LOGISTIC_SOLVER_CONVERGENCE_MSG)\n"
     ]
    },
    {
     "name": "stdout",
     "output_type": "stream",
     "text": [
      "Fitting estimator with 47 features.\n",
      "Fitting estimator with 46 features.\n",
      "Fitting estimator with 45 features.\n"
     ]
    },
    {
     "name": "stderr",
     "output_type": "stream",
     "text": [
      "/Users/alexzieky/opt/anaconda3/lib/python3.7/site-packages/sklearn/linear_model/_logistic.py:764: ConvergenceWarning: lbfgs failed to converge (status=1):\n",
      "STOP: TOTAL NO. of ITERATIONS REACHED LIMIT.\n",
      "\n",
      "Increase the number of iterations (max_iter) or scale the data as shown in:\n",
      "    https://scikit-learn.org/stable/modules/preprocessing.html\n",
      "Please also refer to the documentation for alternative solver options:\n",
      "    https://scikit-learn.org/stable/modules/linear_model.html#logistic-regression\n",
      "  extra_warning_msg=_LOGISTIC_SOLVER_CONVERGENCE_MSG)\n",
      "/Users/alexzieky/opt/anaconda3/lib/python3.7/site-packages/sklearn/linear_model/_logistic.py:764: ConvergenceWarning: lbfgs failed to converge (status=1):\n",
      "STOP: TOTAL NO. of ITERATIONS REACHED LIMIT.\n",
      "\n",
      "Increase the number of iterations (max_iter) or scale the data as shown in:\n",
      "    https://scikit-learn.org/stable/modules/preprocessing.html\n",
      "Please also refer to the documentation for alternative solver options:\n",
      "    https://scikit-learn.org/stable/modules/linear_model.html#logistic-regression\n",
      "  extra_warning_msg=_LOGISTIC_SOLVER_CONVERGENCE_MSG)\n",
      "/Users/alexzieky/opt/anaconda3/lib/python3.7/site-packages/sklearn/linear_model/_logistic.py:764: ConvergenceWarning: lbfgs failed to converge (status=1):\n",
      "STOP: TOTAL NO. of ITERATIONS REACHED LIMIT.\n",
      "\n",
      "Increase the number of iterations (max_iter) or scale the data as shown in:\n",
      "    https://scikit-learn.org/stable/modules/preprocessing.html\n",
      "Please also refer to the documentation for alternative solver options:\n",
      "    https://scikit-learn.org/stable/modules/linear_model.html#logistic-regression\n",
      "  extra_warning_msg=_LOGISTIC_SOLVER_CONVERGENCE_MSG)\n",
      "/Users/alexzieky/opt/anaconda3/lib/python3.7/site-packages/sklearn/linear_model/_logistic.py:764: ConvergenceWarning: lbfgs failed to converge (status=1):\n",
      "STOP: TOTAL NO. of ITERATIONS REACHED LIMIT.\n",
      "\n",
      "Increase the number of iterations (max_iter) or scale the data as shown in:\n",
      "    https://scikit-learn.org/stable/modules/preprocessing.html\n",
      "Please also refer to the documentation for alternative solver options:\n",
      "    https://scikit-learn.org/stable/modules/linear_model.html#logistic-regression\n",
      "  extra_warning_msg=_LOGISTIC_SOLVER_CONVERGENCE_MSG)\n"
     ]
    },
    {
     "name": "stdout",
     "output_type": "stream",
     "text": [
      "Fitting estimator with 44 features.\n",
      "Fitting estimator with 43 features.\n"
     ]
    },
    {
     "name": "stderr",
     "output_type": "stream",
     "text": [
      "/Users/alexzieky/opt/anaconda3/lib/python3.7/site-packages/sklearn/linear_model/_logistic.py:764: ConvergenceWarning: lbfgs failed to converge (status=1):\n",
      "STOP: TOTAL NO. of ITERATIONS REACHED LIMIT.\n",
      "\n",
      "Increase the number of iterations (max_iter) or scale the data as shown in:\n",
      "    https://scikit-learn.org/stable/modules/preprocessing.html\n",
      "Please also refer to the documentation for alternative solver options:\n",
      "    https://scikit-learn.org/stable/modules/linear_model.html#logistic-regression\n",
      "  extra_warning_msg=_LOGISTIC_SOLVER_CONVERGENCE_MSG)\n"
     ]
    }
   ],
   "source": [
    "from sklearn.feature_selection import RFECV\n",
    "# Create recursive feature eliminator that scores features by mean squared errors\n",
    "rfc_log = RFECV(estimator=LogisticRegression(),step=1, cv=5, scoring='f1', n_jobs=-1,verbose=1)\n",
    "\n",
    "# Fit recursive feature eliminator \n",
    "rfc_log.fit(X_train, y_train)\n",
    "\n",
    "selected_rfe = X_train.columns[rfc_log.support_]\n",
    "removed_rfe = X_train.columns[~rfc_log.support_]"
   ]
  },
  {
   "cell_type": "code",
   "execution_count": 151,
   "metadata": {},
   "outputs": [],
   "source": [
    "#Split the Data\n",
    "\n",
    "X_train, X_test, y_train, y_test = train_test_split(X[selected_rfe], y,random_state=5)"
   ]
  },
  {
   "cell_type": "code",
   "execution_count": 152,
   "metadata": {},
   "outputs": [],
   "source": [
    "# Scale the Data\n",
    "scaler = StandardScaler()\n",
    "\n",
    "X_train = scaler.fit_transform(X_train)\n",
    "X_train = pd.DataFrame(data = X_train, columns = X[selected_rfe].columns)\n",
    "\n",
    "X_test = scaler.transform(X_test)\n",
    "X_test = pd.DataFrame(data = X_test,columns = X[selected_rfe].columns)"
   ]
  },
  {
   "cell_type": "markdown",
   "metadata": {},
   "source": [
    "## Logistic Regression w/ RFE"
   ]
  },
  {
   "cell_type": "code",
   "execution_count": 153,
   "metadata": {},
   "outputs": [
    {
     "name": "stdout",
     "output_type": "stream",
     "text": [
      "Train F1 score:  0.537\n",
      "Test F1 score:  0.544\n"
     ]
    },
    {
     "name": "stderr",
     "output_type": "stream",
     "text": [
      "/Users/alexzieky/opt/anaconda3/lib/python3.7/site-packages/sklearn/linear_model/_logistic.py:764: ConvergenceWarning: lbfgs failed to converge (status=1):\n",
      "STOP: TOTAL NO. of ITERATIONS REACHED LIMIT.\n",
      "\n",
      "Increase the number of iterations (max_iter) or scale the data as shown in:\n",
      "    https://scikit-learn.org/stable/modules/preprocessing.html\n",
      "Please also refer to the documentation for alternative solver options:\n",
      "    https://scikit-learn.org/stable/modules/linear_model.html#logistic-regression\n",
      "  extra_warning_msg=_LOGISTIC_SOLVER_CONVERGENCE_MSG)\n"
     ]
    }
   ],
   "source": [
    "### Logistic Regression\n",
    "\n",
    "logreg = LogisticRegression(class_weight = 'balanced')\n",
    "\n",
    "logreg.fit(X_train, y_train)\n",
    "\n",
    "base_logred_train_pred = logreg.predict(X_train)\n",
    "base_logred_test_pred = logreg.predict(X_test)\n",
    "\n",
    "rfe_logred_train_f1_score = round(f1_score(y_train, base_logred_train_pred),3)\n",
    "rfe_logreg_test_f1_score = round(f1_score(y_test, base_logred_test_pred),3)\n",
    "\n",
    "print('Train F1 score: ', rfe_logred_train_f1_score)\n",
    "print('Test F1 score: ', rfe_logreg_test_f1_score)\n"
   ]
  },
  {
   "cell_type": "markdown",
   "metadata": {},
   "source": [
    "## Decision Tree w/ RFE"
   ]
  },
  {
   "cell_type": "code",
   "execution_count": 157,
   "metadata": {},
   "outputs": [
    {
     "name": "stdout",
     "output_type": "stream",
     "text": [
      "Train F1 score:  0.599\n",
      "Test F1 score:  0.564\n"
     ]
    }
   ],
   "source": [
    "### Decision Tree\n",
    "\n",
    "# Simple decision tree (ID3)\n",
    "from sklearn.tree import DecisionTreeClassifier \n",
    "\n",
    "dtc = DecisionTreeClassifier(random_state = 1,\n",
    "                             criterion= 'gini',\n",
    "                             max_depth= 5,\n",
    "                             min_samples_leaf= 6,\n",
    "                             min_samples_split= 2)\n",
    "dtc.fit(X_train, y_train)\n",
    "\n",
    "dtc_train_pred = dtc.predict(X_train)\n",
    "dtc_test_pred = dtc.predict(X_test)\n",
    "\n",
    "rfe_dtc_f1_train = round(f1_score(y_train, dtc_train_pred),3)\n",
    "rfe_dtc_f1_test = round(f1_score(y_test, dtc_test_pred), 3)\n",
    "\n",
    "print('Train F1 score: ', rfe_dtc_f1_train)\n",
    "print('Test F1 score: ', rfe_dtc_f1_test)\n",
    "\n"
   ]
  },
  {
   "cell_type": "markdown",
   "metadata": {},
   "source": [
    "## Random Forest w/ RFE"
   ]
  },
  {
   "cell_type": "code",
   "execution_count": 159,
   "metadata": {},
   "outputs": [
    {
     "name": "stdout",
     "output_type": "stream",
     "text": [
      "Train F1 score:  0.575\n",
      "Test F1 score:  0.446\n"
     ]
    }
   ],
   "source": [
    "### Random Forest\n",
    "\n",
    "from sklearn.ensemble import RandomForestClassifier\n",
    "rfc = RandomForestClassifier(n_estimators=20, random_state=12,max_depth=5)\n",
    "rfc.fit(X_train, y_train)\n",
    "rfc_predicted = rfc.predict(X_test)\n",
    "rfc_predicted_train = rfc.predict(X_train)\n",
    "rfc_recall_score = metrics.recall_score(y_test, rfc_predicted)\n",
    "\n",
    "rfe_rfc_f1_train = round(f1_score(y_train, rfc_predicted_train), 3)\n",
    "rfe_rfc_f1_test = round(f1_score(y_test, rfc_predicted), 3)\n",
    "\n",
    "print('Train F1 score: ', rfe_rfc_f1_train)\n",
    "print('Test F1 score: ', rfe_rfc_f1_test)"
   ]
  },
  {
   "cell_type": "markdown",
   "metadata": {},
   "source": [
    "## SVM w/ RFE"
   ]
  },
  {
   "cell_type": "code",
   "execution_count": 160,
   "metadata": {},
   "outputs": [
    {
     "name": "stdout",
     "output_type": "stream",
     "text": [
      "Train F1 score:  0.602\n",
      "Test F1 score:  0.511\n"
     ]
    }
   ],
   "source": [
    "#Import svm model\n",
    "from sklearn import svm\n",
    "\n",
    "#Create a svm Classifier\n",
    "svm = svm.SVC() # Linear Kernel\n",
    "\n",
    "#Train the model using the training sets\n",
    "svm.fit(X_train, y_train)\n",
    "\n",
    "#Predict the response for test dataset\n",
    "svm_pred = svm.predict(X_test)\n",
    "svm_pred_train = svm.predict(X_train)\n",
    "\n",
    "#Score\n",
    "rfe_svm_f1_train = round(f1_score(y_train, svm_pred_train), 3)\n",
    "rfe_svm_f1_test = round(f1_score(y_test, svm_pred), 3)\n",
    "\n",
    "print('Train F1 score: ', rfe_svm_f1_train)\n",
    "print('Test F1 score: ', rfe_svm_f1_test)"
   ]
  },
  {
   "cell_type": "code",
   "execution_count": 161,
   "metadata": {},
   "outputs": [
    {
     "name": "stdout",
     "output_type": "stream",
     "text": [
      "Baseline Logistic Regression:\n",
      "      Train F1 score:  0.537\n",
      "      Test F1 score:  0.544\n",
      "\n",
      "Decision Tree:\n",
      "      Train F1 score:  0.599\n",
      "      Test F1 score:  0.564\n",
      "\n",
      "Random Forest:\n",
      "      Train F1 score:  0.575\n",
      "      Test F1 score:  0.446\n",
      "\n",
      "Support Vector Machine:\n",
      "      Train F1 score:  0.602\n",
      "      Test F1 score:  0.511\n"
     ]
    }
   ],
   "source": [
    "### Final Scores \n",
    "\n",
    "print('Logistic Regression:')\n",
    "print('      Train F1 score: ', rfe_logred_train_f1_score)\n",
    "print('      Test F1 score: ', rfe_logreg_test_f1_score)\n",
    "print('')\n",
    "print('Decision Tree:')\n",
    "print('      Train F1 score: ', rfe_dtc_f1_train)\n",
    "print('      Test F1 score: ', rfe_dtc_f1_test)\n",
    "print('')\n",
    "print('Random Forest:')\n",
    "print('      Train F1 score: ', rfe_rfc_f1_train)\n",
    "print('      Test F1 score: ', rfe_rfc_f1_test)\n",
    "print('')\n",
    "print('Support Vector Machine:')\n",
    "print('      Train F1 score: ', rfe_svm_f1_train)\n",
    "print('      Test F1 score: ', rfe_svm_f1_test)"
   ]
  },
  {
   "cell_type": "markdown",
   "metadata": {},
   "source": [
    "After using a Recursive Feature Elimination it has become clear that Logistic Regression and Decision Tree models have are performing the best. Going forward I will just focus on those two models to try and optimize their outputs. "
   ]
  },
  {
   "cell_type": "markdown",
   "metadata": {},
   "source": [
    "Next I decided to use a polynomial dataset with the RFE selected columns. I want to see what will happen to my Test F1 scores if I continue to overfit my data. Using a polynomial dataset is a good way overfit your model onto the training set. "
   ]
  },
  {
   "cell_type": "markdown",
   "metadata": {},
   "source": [
    "# Model Tuning w/ Polynomial Dataset"
   ]
  },
  {
   "cell_type": "code",
   "execution_count": 162,
   "metadata": {},
   "outputs": [
    {
     "name": "stdout",
     "output_type": "stream",
     "text": [
      "(9815, 945)\n"
     ]
    },
    {
     "data": {
      "text/html": [
       "<div>\n",
       "<style scoped>\n",
       "    .dataframe tbody tr th:only-of-type {\n",
       "        vertical-align: middle;\n",
       "    }\n",
       "\n",
       "    .dataframe tbody tr th {\n",
       "        vertical-align: top;\n",
       "    }\n",
       "\n",
       "    .dataframe thead th {\n",
       "        text-align: right;\n",
       "    }\n",
       "</style>\n",
       "<table border=\"1\" class=\"dataframe\">\n",
       "  <thead>\n",
       "    <tr style=\"text-align: right;\">\n",
       "      <th></th>\n",
       "      <th>schedule_season</th>\n",
       "      <th>over_under_line</th>\n",
       "      <th>stadium_surface</th>\n",
       "      <th>dist_diff</th>\n",
       "      <th>home_PD</th>\n",
       "      <th>home_SoS</th>\n",
       "      <th>home_SRS</th>\n",
       "      <th>home_OSRS</th>\n",
       "      <th>home_DSRS</th>\n",
       "      <th>home_PF_per_game</th>\n",
       "      <th>home_PA_per_game</th>\n",
       "      <th>away_W-L%</th>\n",
       "      <th>away_PD</th>\n",
       "      <th>away_MoV</th>\n",
       "      <th>away_SoS</th>\n",
       "      <th>away_SRS</th>\n",
       "      <th>away_OSRS</th>\n",
       "      <th>away_DSRS</th>\n",
       "      <th>away_PA_per_game</th>\n",
       "      <th>diff_PD</th>\n",
       "      <th>diff_MoV</th>\n",
       "      <th>diff_SRS</th>\n",
       "      <th>temperature</th>\n",
       "      <th>dewPoint</th>\n",
       "      <th>humidity</th>\n",
       "      <th>windSpeed</th>\n",
       "      <th>windBearing</th>\n",
       "      <th>cloudCover</th>\n",
       "      <th>elevation</th>\n",
       "      <th>icon_clear-day</th>\n",
       "      <th>summary_Dangerously Windy and Mostly Cloudy</th>\n",
       "      <th>summary_Dangerously Windy and Partly Cloudy</th>\n",
       "      <th>summary_Flurries and Windy</th>\n",
       "      <th>summary_Heavy Rain and Humid</th>\n",
       "      <th>summary_Humid and Overcast</th>\n",
       "      <th>summary_None</th>\n",
       "      <th>summary_Partly Cloudy</th>\n",
       "      <th>summary_Possible Flurries</th>\n",
       "      <th>summary_Possible Light Rain and Humid</th>\n",
       "      <th>summary_Windy and Foggy</th>\n",
       "      <th>summary_Windy and Humid</th>\n",
       "      <th>summary_Windy and Partly Cloudy</th>\n",
       "      <th>schedule_season^2</th>\n",
       "      <th>schedule_season over_under_line</th>\n",
       "      <th>schedule_season stadium_surface</th>\n",
       "      <th>schedule_season dist_diff</th>\n",
       "      <th>schedule_season home_PD</th>\n",
       "      <th>schedule_season home_SoS</th>\n",
       "      <th>schedule_season home_SRS</th>\n",
       "      <th>schedule_season home_OSRS</th>\n",
       "      <th>...</th>\n",
       "      <th>summary_Flurries and Windy summary_Possible Flurries</th>\n",
       "      <th>summary_Flurries and Windy summary_Possible Light Rain and Humid</th>\n",
       "      <th>summary_Flurries and Windy summary_Windy and Foggy</th>\n",
       "      <th>summary_Flurries and Windy summary_Windy and Humid</th>\n",
       "      <th>summary_Flurries and Windy summary_Windy and Partly Cloudy</th>\n",
       "      <th>summary_Heavy Rain and Humid^2</th>\n",
       "      <th>summary_Heavy Rain and Humid summary_Humid and Overcast</th>\n",
       "      <th>summary_Heavy Rain and Humid summary_None</th>\n",
       "      <th>summary_Heavy Rain and Humid summary_Partly Cloudy</th>\n",
       "      <th>summary_Heavy Rain and Humid summary_Possible Flurries</th>\n",
       "      <th>summary_Heavy Rain and Humid summary_Possible Light Rain and Humid</th>\n",
       "      <th>summary_Heavy Rain and Humid summary_Windy and Foggy</th>\n",
       "      <th>summary_Heavy Rain and Humid summary_Windy and Humid</th>\n",
       "      <th>summary_Heavy Rain and Humid summary_Windy and Partly Cloudy</th>\n",
       "      <th>summary_Humid and Overcast^2</th>\n",
       "      <th>summary_Humid and Overcast summary_None</th>\n",
       "      <th>summary_Humid and Overcast summary_Partly Cloudy</th>\n",
       "      <th>summary_Humid and Overcast summary_Possible Flurries</th>\n",
       "      <th>summary_Humid and Overcast summary_Possible Light Rain and Humid</th>\n",
       "      <th>summary_Humid and Overcast summary_Windy and Foggy</th>\n",
       "      <th>summary_Humid and Overcast summary_Windy and Humid</th>\n",
       "      <th>summary_Humid and Overcast summary_Windy and Partly Cloudy</th>\n",
       "      <th>summary_None^2</th>\n",
       "      <th>summary_None summary_Partly Cloudy</th>\n",
       "      <th>summary_None summary_Possible Flurries</th>\n",
       "      <th>summary_None summary_Possible Light Rain and Humid</th>\n",
       "      <th>summary_None summary_Windy and Foggy</th>\n",
       "      <th>summary_None summary_Windy and Humid</th>\n",
       "      <th>summary_None summary_Windy and Partly Cloudy</th>\n",
       "      <th>summary_Partly Cloudy^2</th>\n",
       "      <th>summary_Partly Cloudy summary_Possible Flurries</th>\n",
       "      <th>summary_Partly Cloudy summary_Possible Light Rain and Humid</th>\n",
       "      <th>summary_Partly Cloudy summary_Windy and Foggy</th>\n",
       "      <th>summary_Partly Cloudy summary_Windy and Humid</th>\n",
       "      <th>summary_Partly Cloudy summary_Windy and Partly Cloudy</th>\n",
       "      <th>summary_Possible Flurries^2</th>\n",
       "      <th>summary_Possible Flurries summary_Possible Light Rain and Humid</th>\n",
       "      <th>summary_Possible Flurries summary_Windy and Foggy</th>\n",
       "      <th>summary_Possible Flurries summary_Windy and Humid</th>\n",
       "      <th>summary_Possible Flurries summary_Windy and Partly Cloudy</th>\n",
       "      <th>summary_Possible Light Rain and Humid^2</th>\n",
       "      <th>summary_Possible Light Rain and Humid summary_Windy and Foggy</th>\n",
       "      <th>summary_Possible Light Rain and Humid summary_Windy and Humid</th>\n",
       "      <th>summary_Possible Light Rain and Humid summary_Windy and Partly Cloudy</th>\n",
       "      <th>summary_Windy and Foggy^2</th>\n",
       "      <th>summary_Windy and Foggy summary_Windy and Humid</th>\n",
       "      <th>summary_Windy and Foggy summary_Windy and Partly Cloudy</th>\n",
       "      <th>summary_Windy and Humid^2</th>\n",
       "      <th>summary_Windy and Humid summary_Windy and Partly Cloudy</th>\n",
       "      <th>summary_Windy and Partly Cloudy^2</th>\n",
       "    </tr>\n",
       "  </thead>\n",
       "  <tbody>\n",
       "    <tr>\n",
       "      <th>0</th>\n",
       "      <td>1979.0</td>\n",
       "      <td>30.0</td>\n",
       "      <td>1.0</td>\n",
       "      <td>1633.703354</td>\n",
       "      <td>-18.0</td>\n",
       "      <td>-2.2</td>\n",
       "      <td>-3.3</td>\n",
       "      <td>-4.1</td>\n",
       "      <td>0.8</td>\n",
       "      <td>15.0625</td>\n",
       "      <td>16.1875</td>\n",
       "      <td>0.438</td>\n",
       "      <td>-10.0</td>\n",
       "      <td>-0.6</td>\n",
       "      <td>-1.2</td>\n",
       "      <td>-1.8</td>\n",
       "      <td>-0.1</td>\n",
       "      <td>-1.7</td>\n",
       "      <td>18.7500</td>\n",
       "      <td>8.0</td>\n",
       "      <td>0.5</td>\n",
       "      <td>1.5</td>\n",
       "      <td>84.84</td>\n",
       "      <td>75.51</td>\n",
       "      <td>0.74</td>\n",
       "      <td>13.37</td>\n",
       "      <td>91.0</td>\n",
       "      <td>0.99</td>\n",
       "      <td>10.61</td>\n",
       "      <td>0.0</td>\n",
       "      <td>0.0</td>\n",
       "      <td>0.0</td>\n",
       "      <td>0.0</td>\n",
       "      <td>0.0</td>\n",
       "      <td>0.0</td>\n",
       "      <td>0.0</td>\n",
       "      <td>0.0</td>\n",
       "      <td>0.0</td>\n",
       "      <td>0.0</td>\n",
       "      <td>0.0</td>\n",
       "      <td>0.0</td>\n",
       "      <td>0.0</td>\n",
       "      <td>3916441.0</td>\n",
       "      <td>59370.0</td>\n",
       "      <td>1979.0</td>\n",
       "      <td>3.233099e+06</td>\n",
       "      <td>-35622.0</td>\n",
       "      <td>-4353.8</td>\n",
       "      <td>-6530.7</td>\n",
       "      <td>-8113.9</td>\n",
       "      <td>...</td>\n",
       "      <td>0.0</td>\n",
       "      <td>0.0</td>\n",
       "      <td>0.0</td>\n",
       "      <td>0.0</td>\n",
       "      <td>0.0</td>\n",
       "      <td>0.0</td>\n",
       "      <td>0.0</td>\n",
       "      <td>0.0</td>\n",
       "      <td>0.0</td>\n",
       "      <td>0.0</td>\n",
       "      <td>0.0</td>\n",
       "      <td>0.0</td>\n",
       "      <td>0.0</td>\n",
       "      <td>0.0</td>\n",
       "      <td>0.0</td>\n",
       "      <td>0.0</td>\n",
       "      <td>0.0</td>\n",
       "      <td>0.0</td>\n",
       "      <td>0.0</td>\n",
       "      <td>0.0</td>\n",
       "      <td>0.0</td>\n",
       "      <td>0.0</td>\n",
       "      <td>0.0</td>\n",
       "      <td>0.0</td>\n",
       "      <td>0.0</td>\n",
       "      <td>0.0</td>\n",
       "      <td>0.0</td>\n",
       "      <td>0.0</td>\n",
       "      <td>0.0</td>\n",
       "      <td>0.0</td>\n",
       "      <td>0.0</td>\n",
       "      <td>0.0</td>\n",
       "      <td>0.0</td>\n",
       "      <td>0.0</td>\n",
       "      <td>0.0</td>\n",
       "      <td>0.0</td>\n",
       "      <td>0.0</td>\n",
       "      <td>0.0</td>\n",
       "      <td>0.0</td>\n",
       "      <td>0.0</td>\n",
       "      <td>0.0</td>\n",
       "      <td>0.0</td>\n",
       "      <td>0.0</td>\n",
       "      <td>0.0</td>\n",
       "      <td>0.0</td>\n",
       "      <td>0.0</td>\n",
       "      <td>0.0</td>\n",
       "      <td>0.0</td>\n",
       "      <td>0.0</td>\n",
       "      <td>0.0</td>\n",
       "    </tr>\n",
       "    <tr>\n",
       "      <th>1</th>\n",
       "      <td>1979.0</td>\n",
       "      <td>36.5</td>\n",
       "      <td>1.0</td>\n",
       "      <td>584.057748</td>\n",
       "      <td>71.0</td>\n",
       "      <td>-1.2</td>\n",
       "      <td>3.2</td>\n",
       "      <td>1.3</td>\n",
       "      <td>1.9</td>\n",
       "      <td>19.7500</td>\n",
       "      <td>15.3125</td>\n",
       "      <td>0.563</td>\n",
       "      <td>28.0</td>\n",
       "      <td>1.8</td>\n",
       "      <td>0.9</td>\n",
       "      <td>2.6</td>\n",
       "      <td>1.6</td>\n",
       "      <td>1.1</td>\n",
       "      <td>17.6875</td>\n",
       "      <td>43.0</td>\n",
       "      <td>2.6</td>\n",
       "      <td>0.6</td>\n",
       "      <td>82.36</td>\n",
       "      <td>55.11</td>\n",
       "      <td>0.39</td>\n",
       "      <td>10.52</td>\n",
       "      <td>216.0</td>\n",
       "      <td>0.39</td>\n",
       "      <td>62.80</td>\n",
       "      <td>0.0</td>\n",
       "      <td>0.0</td>\n",
       "      <td>0.0</td>\n",
       "      <td>0.0</td>\n",
       "      <td>0.0</td>\n",
       "      <td>0.0</td>\n",
       "      <td>0.0</td>\n",
       "      <td>1.0</td>\n",
       "      <td>0.0</td>\n",
       "      <td>0.0</td>\n",
       "      <td>0.0</td>\n",
       "      <td>0.0</td>\n",
       "      <td>0.0</td>\n",
       "      <td>3916441.0</td>\n",
       "      <td>72233.5</td>\n",
       "      <td>1979.0</td>\n",
       "      <td>1.155850e+06</td>\n",
       "      <td>140509.0</td>\n",
       "      <td>-2374.8</td>\n",
       "      <td>6332.8</td>\n",
       "      <td>2572.7</td>\n",
       "      <td>...</td>\n",
       "      <td>0.0</td>\n",
       "      <td>0.0</td>\n",
       "      <td>0.0</td>\n",
       "      <td>0.0</td>\n",
       "      <td>0.0</td>\n",
       "      <td>0.0</td>\n",
       "      <td>0.0</td>\n",
       "      <td>0.0</td>\n",
       "      <td>0.0</td>\n",
       "      <td>0.0</td>\n",
       "      <td>0.0</td>\n",
       "      <td>0.0</td>\n",
       "      <td>0.0</td>\n",
       "      <td>0.0</td>\n",
       "      <td>0.0</td>\n",
       "      <td>0.0</td>\n",
       "      <td>0.0</td>\n",
       "      <td>0.0</td>\n",
       "      <td>0.0</td>\n",
       "      <td>0.0</td>\n",
       "      <td>0.0</td>\n",
       "      <td>0.0</td>\n",
       "      <td>0.0</td>\n",
       "      <td>0.0</td>\n",
       "      <td>0.0</td>\n",
       "      <td>0.0</td>\n",
       "      <td>0.0</td>\n",
       "      <td>0.0</td>\n",
       "      <td>0.0</td>\n",
       "      <td>1.0</td>\n",
       "      <td>0.0</td>\n",
       "      <td>0.0</td>\n",
       "      <td>0.0</td>\n",
       "      <td>0.0</td>\n",
       "      <td>0.0</td>\n",
       "      <td>0.0</td>\n",
       "      <td>0.0</td>\n",
       "      <td>0.0</td>\n",
       "      <td>0.0</td>\n",
       "      <td>0.0</td>\n",
       "      <td>0.0</td>\n",
       "      <td>0.0</td>\n",
       "      <td>0.0</td>\n",
       "      <td>0.0</td>\n",
       "      <td>0.0</td>\n",
       "      <td>0.0</td>\n",
       "      <td>0.0</td>\n",
       "      <td>0.0</td>\n",
       "      <td>0.0</td>\n",
       "      <td>0.0</td>\n",
       "    </tr>\n",
       "    <tr>\n",
       "      <th>2</th>\n",
       "      <td>1979.0</td>\n",
       "      <td>32.0</td>\n",
       "      <td>1.0</td>\n",
       "      <td>2544.781439</td>\n",
       "      <td>-12.0</td>\n",
       "      <td>0.6</td>\n",
       "      <td>-0.2</td>\n",
       "      <td>1.0</td>\n",
       "      <td>-1.1</td>\n",
       "      <td>18.3750</td>\n",
       "      <td>19.1250</td>\n",
       "      <td>0.125</td>\n",
       "      <td>-131.0</td>\n",
       "      <td>-8.2</td>\n",
       "      <td>-0.9</td>\n",
       "      <td>-9.1</td>\n",
       "      <td>-4.6</td>\n",
       "      <td>-4.5</td>\n",
       "      <td>21.8750</td>\n",
       "      <td>119.0</td>\n",
       "      <td>7.4</td>\n",
       "      <td>8.9</td>\n",
       "      <td>75.37</td>\n",
       "      <td>57.02</td>\n",
       "      <td>0.53</td>\n",
       "      <td>13.88</td>\n",
       "      <td>320.0</td>\n",
       "      <td>0.63</td>\n",
       "      <td>217.40</td>\n",
       "      <td>0.0</td>\n",
       "      <td>0.0</td>\n",
       "      <td>0.0</td>\n",
       "      <td>0.0</td>\n",
       "      <td>0.0</td>\n",
       "      <td>0.0</td>\n",
       "      <td>0.0</td>\n",
       "      <td>0.0</td>\n",
       "      <td>0.0</td>\n",
       "      <td>0.0</td>\n",
       "      <td>0.0</td>\n",
       "      <td>0.0</td>\n",
       "      <td>0.0</td>\n",
       "      <td>3916441.0</td>\n",
       "      <td>63328.0</td>\n",
       "      <td>1979.0</td>\n",
       "      <td>5.036122e+06</td>\n",
       "      <td>-23748.0</td>\n",
       "      <td>1187.4</td>\n",
       "      <td>-395.8</td>\n",
       "      <td>1979.0</td>\n",
       "      <td>...</td>\n",
       "      <td>0.0</td>\n",
       "      <td>0.0</td>\n",
       "      <td>0.0</td>\n",
       "      <td>0.0</td>\n",
       "      <td>0.0</td>\n",
       "      <td>0.0</td>\n",
       "      <td>0.0</td>\n",
       "      <td>0.0</td>\n",
       "      <td>0.0</td>\n",
       "      <td>0.0</td>\n",
       "      <td>0.0</td>\n",
       "      <td>0.0</td>\n",
       "      <td>0.0</td>\n",
       "      <td>0.0</td>\n",
       "      <td>0.0</td>\n",
       "      <td>0.0</td>\n",
       "      <td>0.0</td>\n",
       "      <td>0.0</td>\n",
       "      <td>0.0</td>\n",
       "      <td>0.0</td>\n",
       "      <td>0.0</td>\n",
       "      <td>0.0</td>\n",
       "      <td>0.0</td>\n",
       "      <td>0.0</td>\n",
       "      <td>0.0</td>\n",
       "      <td>0.0</td>\n",
       "      <td>0.0</td>\n",
       "      <td>0.0</td>\n",
       "      <td>0.0</td>\n",
       "      <td>0.0</td>\n",
       "      <td>0.0</td>\n",
       "      <td>0.0</td>\n",
       "      <td>0.0</td>\n",
       "      <td>0.0</td>\n",
       "      <td>0.0</td>\n",
       "      <td>0.0</td>\n",
       "      <td>0.0</td>\n",
       "      <td>0.0</td>\n",
       "      <td>0.0</td>\n",
       "      <td>0.0</td>\n",
       "      <td>0.0</td>\n",
       "      <td>0.0</td>\n",
       "      <td>0.0</td>\n",
       "      <td>0.0</td>\n",
       "      <td>0.0</td>\n",
       "      <td>0.0</td>\n",
       "      <td>0.0</td>\n",
       "      <td>0.0</td>\n",
       "      <td>0.0</td>\n",
       "      <td>0.0</td>\n",
       "    </tr>\n",
       "    <tr>\n",
       "      <th>3</th>\n",
       "      <td>1979.0</td>\n",
       "      <td>32.0</td>\n",
       "      <td>0.0</td>\n",
       "      <td>682.807021</td>\n",
       "      <td>-17.0</td>\n",
       "      <td>-0.6</td>\n",
       "      <td>-1.7</td>\n",
       "      <td>-0.5</td>\n",
       "      <td>-1.2</td>\n",
       "      <td>17.5625</td>\n",
       "      <td>18.6250</td>\n",
       "      <td>0.563</td>\n",
       "      <td>-50.0</td>\n",
       "      <td>-3.1</td>\n",
       "      <td>-1.5</td>\n",
       "      <td>-4.6</td>\n",
       "      <td>-3.7</td>\n",
       "      <td>-0.9</td>\n",
       "      <td>18.1250</td>\n",
       "      <td>33.0</td>\n",
       "      <td>2.0</td>\n",
       "      <td>2.9</td>\n",
       "      <td>78.15</td>\n",
       "      <td>71.44</td>\n",
       "      <td>0.80</td>\n",
       "      <td>2.61</td>\n",
       "      <td>90.0</td>\n",
       "      <td>0.93</td>\n",
       "      <td>-0.01</td>\n",
       "      <td>0.0</td>\n",
       "      <td>0.0</td>\n",
       "      <td>0.0</td>\n",
       "      <td>0.0</td>\n",
       "      <td>0.0</td>\n",
       "      <td>0.0</td>\n",
       "      <td>0.0</td>\n",
       "      <td>0.0</td>\n",
       "      <td>0.0</td>\n",
       "      <td>0.0</td>\n",
       "      <td>0.0</td>\n",
       "      <td>0.0</td>\n",
       "      <td>0.0</td>\n",
       "      <td>3916441.0</td>\n",
       "      <td>63328.0</td>\n",
       "      <td>0.0</td>\n",
       "      <td>1.351275e+06</td>\n",
       "      <td>-33643.0</td>\n",
       "      <td>-1187.4</td>\n",
       "      <td>-3364.3</td>\n",
       "      <td>-989.5</td>\n",
       "      <td>...</td>\n",
       "      <td>0.0</td>\n",
       "      <td>0.0</td>\n",
       "      <td>0.0</td>\n",
       "      <td>0.0</td>\n",
       "      <td>0.0</td>\n",
       "      <td>0.0</td>\n",
       "      <td>0.0</td>\n",
       "      <td>0.0</td>\n",
       "      <td>0.0</td>\n",
       "      <td>0.0</td>\n",
       "      <td>0.0</td>\n",
       "      <td>0.0</td>\n",
       "      <td>0.0</td>\n",
       "      <td>0.0</td>\n",
       "      <td>0.0</td>\n",
       "      <td>0.0</td>\n",
       "      <td>0.0</td>\n",
       "      <td>0.0</td>\n",
       "      <td>0.0</td>\n",
       "      <td>0.0</td>\n",
       "      <td>0.0</td>\n",
       "      <td>0.0</td>\n",
       "      <td>0.0</td>\n",
       "      <td>0.0</td>\n",
       "      <td>0.0</td>\n",
       "      <td>0.0</td>\n",
       "      <td>0.0</td>\n",
       "      <td>0.0</td>\n",
       "      <td>0.0</td>\n",
       "      <td>0.0</td>\n",
       "      <td>0.0</td>\n",
       "      <td>0.0</td>\n",
       "      <td>0.0</td>\n",
       "      <td>0.0</td>\n",
       "      <td>0.0</td>\n",
       "      <td>0.0</td>\n",
       "      <td>0.0</td>\n",
       "      <td>0.0</td>\n",
       "      <td>0.0</td>\n",
       "      <td>0.0</td>\n",
       "      <td>0.0</td>\n",
       "      <td>0.0</td>\n",
       "      <td>0.0</td>\n",
       "      <td>0.0</td>\n",
       "      <td>0.0</td>\n",
       "      <td>0.0</td>\n",
       "      <td>0.0</td>\n",
       "      <td>0.0</td>\n",
       "      <td>0.0</td>\n",
       "      <td>0.0</td>\n",
       "    </tr>\n",
       "    <tr>\n",
       "      <th>4</th>\n",
       "      <td>1979.0</td>\n",
       "      <td>41.0</td>\n",
       "      <td>0.0</td>\n",
       "      <td>638.001411</td>\n",
       "      <td>-5.0</td>\n",
       "      <td>1.4</td>\n",
       "      <td>1.1</td>\n",
       "      <td>4.4</td>\n",
       "      <td>-3.3</td>\n",
       "      <td>22.4375</td>\n",
       "      <td>22.7500</td>\n",
       "      <td>0.500</td>\n",
       "      <td>-22.0</td>\n",
       "      <td>-1.4</td>\n",
       "      <td>-0.6</td>\n",
       "      <td>-2.0</td>\n",
       "      <td>2.5</td>\n",
       "      <td>-4.5</td>\n",
       "      <td>22.2500</td>\n",
       "      <td>17.0</td>\n",
       "      <td>1.1</td>\n",
       "      <td>3.1</td>\n",
       "      <td>78.83</td>\n",
       "      <td>72.63</td>\n",
       "      <td>0.81</td>\n",
       "      <td>11.76</td>\n",
       "      <td>162.0</td>\n",
       "      <td>0.79</td>\n",
       "      <td>19.09</td>\n",
       "      <td>0.0</td>\n",
       "      <td>0.0</td>\n",
       "      <td>0.0</td>\n",
       "      <td>0.0</td>\n",
       "      <td>0.0</td>\n",
       "      <td>0.0</td>\n",
       "      <td>0.0</td>\n",
       "      <td>0.0</td>\n",
       "      <td>0.0</td>\n",
       "      <td>0.0</td>\n",
       "      <td>0.0</td>\n",
       "      <td>0.0</td>\n",
       "      <td>0.0</td>\n",
       "      <td>3916441.0</td>\n",
       "      <td>81139.0</td>\n",
       "      <td>0.0</td>\n",
       "      <td>1.262605e+06</td>\n",
       "      <td>-9895.0</td>\n",
       "      <td>2770.6</td>\n",
       "      <td>2176.9</td>\n",
       "      <td>8707.6</td>\n",
       "      <td>...</td>\n",
       "      <td>0.0</td>\n",
       "      <td>0.0</td>\n",
       "      <td>0.0</td>\n",
       "      <td>0.0</td>\n",
       "      <td>0.0</td>\n",
       "      <td>0.0</td>\n",
       "      <td>0.0</td>\n",
       "      <td>0.0</td>\n",
       "      <td>0.0</td>\n",
       "      <td>0.0</td>\n",
       "      <td>0.0</td>\n",
       "      <td>0.0</td>\n",
       "      <td>0.0</td>\n",
       "      <td>0.0</td>\n",
       "      <td>0.0</td>\n",
       "      <td>0.0</td>\n",
       "      <td>0.0</td>\n",
       "      <td>0.0</td>\n",
       "      <td>0.0</td>\n",
       "      <td>0.0</td>\n",
       "      <td>0.0</td>\n",
       "      <td>0.0</td>\n",
       "      <td>0.0</td>\n",
       "      <td>0.0</td>\n",
       "      <td>0.0</td>\n",
       "      <td>0.0</td>\n",
       "      <td>0.0</td>\n",
       "      <td>0.0</td>\n",
       "      <td>0.0</td>\n",
       "      <td>0.0</td>\n",
       "      <td>0.0</td>\n",
       "      <td>0.0</td>\n",
       "      <td>0.0</td>\n",
       "      <td>0.0</td>\n",
       "      <td>0.0</td>\n",
       "      <td>0.0</td>\n",
       "      <td>0.0</td>\n",
       "      <td>0.0</td>\n",
       "      <td>0.0</td>\n",
       "      <td>0.0</td>\n",
       "      <td>0.0</td>\n",
       "      <td>0.0</td>\n",
       "      <td>0.0</td>\n",
       "      <td>0.0</td>\n",
       "      <td>0.0</td>\n",
       "      <td>0.0</td>\n",
       "      <td>0.0</td>\n",
       "      <td>0.0</td>\n",
       "      <td>0.0</td>\n",
       "      <td>0.0</td>\n",
       "    </tr>\n",
       "  </tbody>\n",
       "</table>\n",
       "<p>5 rows × 945 columns</p>\n",
       "</div>"
      ],
      "text/plain": [
       "   schedule_season  over_under_line  stadium_surface    dist_diff  home_PD  \\\n",
       "0           1979.0             30.0              1.0  1633.703354    -18.0   \n",
       "1           1979.0             36.5              1.0   584.057748     71.0   \n",
       "2           1979.0             32.0              1.0  2544.781439    -12.0   \n",
       "3           1979.0             32.0              0.0   682.807021    -17.0   \n",
       "4           1979.0             41.0              0.0   638.001411     -5.0   \n",
       "\n",
       "   home_SoS  home_SRS  home_OSRS  home_DSRS  home_PF_per_game  \\\n",
       "0      -2.2      -3.3       -4.1        0.8           15.0625   \n",
       "1      -1.2       3.2        1.3        1.9           19.7500   \n",
       "2       0.6      -0.2        1.0       -1.1           18.3750   \n",
       "3      -0.6      -1.7       -0.5       -1.2           17.5625   \n",
       "4       1.4       1.1        4.4       -3.3           22.4375   \n",
       "\n",
       "   home_PA_per_game  away_W-L%  away_PD  away_MoV  away_SoS  away_SRS  \\\n",
       "0           16.1875      0.438    -10.0      -0.6      -1.2      -1.8   \n",
       "1           15.3125      0.563     28.0       1.8       0.9       2.6   \n",
       "2           19.1250      0.125   -131.0      -8.2      -0.9      -9.1   \n",
       "3           18.6250      0.563    -50.0      -3.1      -1.5      -4.6   \n",
       "4           22.7500      0.500    -22.0      -1.4      -0.6      -2.0   \n",
       "\n",
       "   away_OSRS  away_DSRS  away_PA_per_game  diff_PD  diff_MoV  diff_SRS  \\\n",
       "0       -0.1       -1.7           18.7500      8.0       0.5       1.5   \n",
       "1        1.6        1.1           17.6875     43.0       2.6       0.6   \n",
       "2       -4.6       -4.5           21.8750    119.0       7.4       8.9   \n",
       "3       -3.7       -0.9           18.1250     33.0       2.0       2.9   \n",
       "4        2.5       -4.5           22.2500     17.0       1.1       3.1   \n",
       "\n",
       "   temperature  dewPoint  humidity  windSpeed  windBearing  cloudCover  \\\n",
       "0        84.84     75.51      0.74      13.37         91.0        0.99   \n",
       "1        82.36     55.11      0.39      10.52        216.0        0.39   \n",
       "2        75.37     57.02      0.53      13.88        320.0        0.63   \n",
       "3        78.15     71.44      0.80       2.61         90.0        0.93   \n",
       "4        78.83     72.63      0.81      11.76        162.0        0.79   \n",
       "\n",
       "   elevation  icon_clear-day  summary_Dangerously Windy and Mostly Cloudy  \\\n",
       "0      10.61             0.0                                          0.0   \n",
       "1      62.80             0.0                                          0.0   \n",
       "2     217.40             0.0                                          0.0   \n",
       "3      -0.01             0.0                                          0.0   \n",
       "4      19.09             0.0                                          0.0   \n",
       "\n",
       "   summary_Dangerously Windy and Partly Cloudy  summary_Flurries and Windy  \\\n",
       "0                                          0.0                         0.0   \n",
       "1                                          0.0                         0.0   \n",
       "2                                          0.0                         0.0   \n",
       "3                                          0.0                         0.0   \n",
       "4                                          0.0                         0.0   \n",
       "\n",
       "   summary_Heavy Rain and Humid  summary_Humid and Overcast  summary_None  \\\n",
       "0                           0.0                         0.0           0.0   \n",
       "1                           0.0                         0.0           0.0   \n",
       "2                           0.0                         0.0           0.0   \n",
       "3                           0.0                         0.0           0.0   \n",
       "4                           0.0                         0.0           0.0   \n",
       "\n",
       "   summary_Partly Cloudy  summary_Possible Flurries  \\\n",
       "0                    0.0                        0.0   \n",
       "1                    1.0                        0.0   \n",
       "2                    0.0                        0.0   \n",
       "3                    0.0                        0.0   \n",
       "4                    0.0                        0.0   \n",
       "\n",
       "   summary_Possible Light Rain and Humid  summary_Windy and Foggy  \\\n",
       "0                                    0.0                      0.0   \n",
       "1                                    0.0                      0.0   \n",
       "2                                    0.0                      0.0   \n",
       "3                                    0.0                      0.0   \n",
       "4                                    0.0                      0.0   \n",
       "\n",
       "   summary_Windy and Humid  summary_Windy and Partly Cloudy  \\\n",
       "0                      0.0                              0.0   \n",
       "1                      0.0                              0.0   \n",
       "2                      0.0                              0.0   \n",
       "3                      0.0                              0.0   \n",
       "4                      0.0                              0.0   \n",
       "\n",
       "   schedule_season^2  schedule_season over_under_line  \\\n",
       "0          3916441.0                          59370.0   \n",
       "1          3916441.0                          72233.5   \n",
       "2          3916441.0                          63328.0   \n",
       "3          3916441.0                          63328.0   \n",
       "4          3916441.0                          81139.0   \n",
       "\n",
       "   schedule_season stadium_surface  schedule_season dist_diff  \\\n",
       "0                           1979.0               3.233099e+06   \n",
       "1                           1979.0               1.155850e+06   \n",
       "2                           1979.0               5.036122e+06   \n",
       "3                              0.0               1.351275e+06   \n",
       "4                              0.0               1.262605e+06   \n",
       "\n",
       "   schedule_season home_PD  schedule_season home_SoS  \\\n",
       "0                 -35622.0                   -4353.8   \n",
       "1                 140509.0                   -2374.8   \n",
       "2                 -23748.0                    1187.4   \n",
       "3                 -33643.0                   -1187.4   \n",
       "4                  -9895.0                    2770.6   \n",
       "\n",
       "   schedule_season home_SRS  schedule_season home_OSRS  ...  \\\n",
       "0                   -6530.7                    -8113.9  ...   \n",
       "1                    6332.8                     2572.7  ...   \n",
       "2                    -395.8                     1979.0  ...   \n",
       "3                   -3364.3                     -989.5  ...   \n",
       "4                    2176.9                     8707.6  ...   \n",
       "\n",
       "   summary_Flurries and Windy summary_Possible Flurries  \\\n",
       "0                                                0.0      \n",
       "1                                                0.0      \n",
       "2                                                0.0      \n",
       "3                                                0.0      \n",
       "4                                                0.0      \n",
       "\n",
       "   summary_Flurries and Windy summary_Possible Light Rain and Humid  \\\n",
       "0                                                0.0                  \n",
       "1                                                0.0                  \n",
       "2                                                0.0                  \n",
       "3                                                0.0                  \n",
       "4                                                0.0                  \n",
       "\n",
       "   summary_Flurries and Windy summary_Windy and Foggy  \\\n",
       "0                                                0.0    \n",
       "1                                                0.0    \n",
       "2                                                0.0    \n",
       "3                                                0.0    \n",
       "4                                                0.0    \n",
       "\n",
       "   summary_Flurries and Windy summary_Windy and Humid  \\\n",
       "0                                                0.0    \n",
       "1                                                0.0    \n",
       "2                                                0.0    \n",
       "3                                                0.0    \n",
       "4                                                0.0    \n",
       "\n",
       "   summary_Flurries and Windy summary_Windy and Partly Cloudy  \\\n",
       "0                                                0.0            \n",
       "1                                                0.0            \n",
       "2                                                0.0            \n",
       "3                                                0.0            \n",
       "4                                                0.0            \n",
       "\n",
       "   summary_Heavy Rain and Humid^2  \\\n",
       "0                             0.0   \n",
       "1                             0.0   \n",
       "2                             0.0   \n",
       "3                             0.0   \n",
       "4                             0.0   \n",
       "\n",
       "   summary_Heavy Rain and Humid summary_Humid and Overcast  \\\n",
       "0                                                0.0         \n",
       "1                                                0.0         \n",
       "2                                                0.0         \n",
       "3                                                0.0         \n",
       "4                                                0.0         \n",
       "\n",
       "   summary_Heavy Rain and Humid summary_None  \\\n",
       "0                                        0.0   \n",
       "1                                        0.0   \n",
       "2                                        0.0   \n",
       "3                                        0.0   \n",
       "4                                        0.0   \n",
       "\n",
       "   summary_Heavy Rain and Humid summary_Partly Cloudy  \\\n",
       "0                                                0.0    \n",
       "1                                                0.0    \n",
       "2                                                0.0    \n",
       "3                                                0.0    \n",
       "4                                                0.0    \n",
       "\n",
       "   summary_Heavy Rain and Humid summary_Possible Flurries  \\\n",
       "0                                                0.0        \n",
       "1                                                0.0        \n",
       "2                                                0.0        \n",
       "3                                                0.0        \n",
       "4                                                0.0        \n",
       "\n",
       "   summary_Heavy Rain and Humid summary_Possible Light Rain and Humid  \\\n",
       "0                                                0.0                    \n",
       "1                                                0.0                    \n",
       "2                                                0.0                    \n",
       "3                                                0.0                    \n",
       "4                                                0.0                    \n",
       "\n",
       "   summary_Heavy Rain and Humid summary_Windy and Foggy  \\\n",
       "0                                                0.0      \n",
       "1                                                0.0      \n",
       "2                                                0.0      \n",
       "3                                                0.0      \n",
       "4                                                0.0      \n",
       "\n",
       "   summary_Heavy Rain and Humid summary_Windy and Humid  \\\n",
       "0                                                0.0      \n",
       "1                                                0.0      \n",
       "2                                                0.0      \n",
       "3                                                0.0      \n",
       "4                                                0.0      \n",
       "\n",
       "   summary_Heavy Rain and Humid summary_Windy and Partly Cloudy  \\\n",
       "0                                                0.0              \n",
       "1                                                0.0              \n",
       "2                                                0.0              \n",
       "3                                                0.0              \n",
       "4                                                0.0              \n",
       "\n",
       "   summary_Humid and Overcast^2  summary_Humid and Overcast summary_None  \\\n",
       "0                           0.0                                      0.0   \n",
       "1                           0.0                                      0.0   \n",
       "2                           0.0                                      0.0   \n",
       "3                           0.0                                      0.0   \n",
       "4                           0.0                                      0.0   \n",
       "\n",
       "   summary_Humid and Overcast summary_Partly Cloudy  \\\n",
       "0                                               0.0   \n",
       "1                                               0.0   \n",
       "2                                               0.0   \n",
       "3                                               0.0   \n",
       "4                                               0.0   \n",
       "\n",
       "   summary_Humid and Overcast summary_Possible Flurries  \\\n",
       "0                                                0.0      \n",
       "1                                                0.0      \n",
       "2                                                0.0      \n",
       "3                                                0.0      \n",
       "4                                                0.0      \n",
       "\n",
       "   summary_Humid and Overcast summary_Possible Light Rain and Humid  \\\n",
       "0                                                0.0                  \n",
       "1                                                0.0                  \n",
       "2                                                0.0                  \n",
       "3                                                0.0                  \n",
       "4                                                0.0                  \n",
       "\n",
       "   summary_Humid and Overcast summary_Windy and Foggy  \\\n",
       "0                                                0.0    \n",
       "1                                                0.0    \n",
       "2                                                0.0    \n",
       "3                                                0.0    \n",
       "4                                                0.0    \n",
       "\n",
       "   summary_Humid and Overcast summary_Windy and Humid  \\\n",
       "0                                                0.0    \n",
       "1                                                0.0    \n",
       "2                                                0.0    \n",
       "3                                                0.0    \n",
       "4                                                0.0    \n",
       "\n",
       "   summary_Humid and Overcast summary_Windy and Partly Cloudy  summary_None^2  \\\n",
       "0                                                0.0                      0.0   \n",
       "1                                                0.0                      0.0   \n",
       "2                                                0.0                      0.0   \n",
       "3                                                0.0                      0.0   \n",
       "4                                                0.0                      0.0   \n",
       "\n",
       "   summary_None summary_Partly Cloudy  summary_None summary_Possible Flurries  \\\n",
       "0                                 0.0                                     0.0   \n",
       "1                                 0.0                                     0.0   \n",
       "2                                 0.0                                     0.0   \n",
       "3                                 0.0                                     0.0   \n",
       "4                                 0.0                                     0.0   \n",
       "\n",
       "   summary_None summary_Possible Light Rain and Humid  \\\n",
       "0                                                0.0    \n",
       "1                                                0.0    \n",
       "2                                                0.0    \n",
       "3                                                0.0    \n",
       "4                                                0.0    \n",
       "\n",
       "   summary_None summary_Windy and Foggy  summary_None summary_Windy and Humid  \\\n",
       "0                                   0.0                                   0.0   \n",
       "1                                   0.0                                   0.0   \n",
       "2                                   0.0                                   0.0   \n",
       "3                                   0.0                                   0.0   \n",
       "4                                   0.0                                   0.0   \n",
       "\n",
       "   summary_None summary_Windy and Partly Cloudy  summary_Partly Cloudy^2  \\\n",
       "0                                           0.0                      0.0   \n",
       "1                                           0.0                      1.0   \n",
       "2                                           0.0                      0.0   \n",
       "3                                           0.0                      0.0   \n",
       "4                                           0.0                      0.0   \n",
       "\n",
       "   summary_Partly Cloudy summary_Possible Flurries  \\\n",
       "0                                              0.0   \n",
       "1                                              0.0   \n",
       "2                                              0.0   \n",
       "3                                              0.0   \n",
       "4                                              0.0   \n",
       "\n",
       "   summary_Partly Cloudy summary_Possible Light Rain and Humid  \\\n",
       "0                                                0.0             \n",
       "1                                                0.0             \n",
       "2                                                0.0             \n",
       "3                                                0.0             \n",
       "4                                                0.0             \n",
       "\n",
       "   summary_Partly Cloudy summary_Windy and Foggy  \\\n",
       "0                                            0.0   \n",
       "1                                            0.0   \n",
       "2                                            0.0   \n",
       "3                                            0.0   \n",
       "4                                            0.0   \n",
       "\n",
       "   summary_Partly Cloudy summary_Windy and Humid  \\\n",
       "0                                            0.0   \n",
       "1                                            0.0   \n",
       "2                                            0.0   \n",
       "3                                            0.0   \n",
       "4                                            0.0   \n",
       "\n",
       "   summary_Partly Cloudy summary_Windy and Partly Cloudy  \\\n",
       "0                                                0.0       \n",
       "1                                                0.0       \n",
       "2                                                0.0       \n",
       "3                                                0.0       \n",
       "4                                                0.0       \n",
       "\n",
       "   summary_Possible Flurries^2  \\\n",
       "0                          0.0   \n",
       "1                          0.0   \n",
       "2                          0.0   \n",
       "3                          0.0   \n",
       "4                          0.0   \n",
       "\n",
       "   summary_Possible Flurries summary_Possible Light Rain and Humid  \\\n",
       "0                                                0.0                 \n",
       "1                                                0.0                 \n",
       "2                                                0.0                 \n",
       "3                                                0.0                 \n",
       "4                                                0.0                 \n",
       "\n",
       "   summary_Possible Flurries summary_Windy and Foggy  \\\n",
       "0                                                0.0   \n",
       "1                                                0.0   \n",
       "2                                                0.0   \n",
       "3                                                0.0   \n",
       "4                                                0.0   \n",
       "\n",
       "   summary_Possible Flurries summary_Windy and Humid  \\\n",
       "0                                                0.0   \n",
       "1                                                0.0   \n",
       "2                                                0.0   \n",
       "3                                                0.0   \n",
       "4                                                0.0   \n",
       "\n",
       "   summary_Possible Flurries summary_Windy and Partly Cloudy  \\\n",
       "0                                                0.0           \n",
       "1                                                0.0           \n",
       "2                                                0.0           \n",
       "3                                                0.0           \n",
       "4                                                0.0           \n",
       "\n",
       "   summary_Possible Light Rain and Humid^2  \\\n",
       "0                                      0.0   \n",
       "1                                      0.0   \n",
       "2                                      0.0   \n",
       "3                                      0.0   \n",
       "4                                      0.0   \n",
       "\n",
       "   summary_Possible Light Rain and Humid summary_Windy and Foggy  \\\n",
       "0                                                0.0               \n",
       "1                                                0.0               \n",
       "2                                                0.0               \n",
       "3                                                0.0               \n",
       "4                                                0.0               \n",
       "\n",
       "   summary_Possible Light Rain and Humid summary_Windy and Humid  \\\n",
       "0                                                0.0               \n",
       "1                                                0.0               \n",
       "2                                                0.0               \n",
       "3                                                0.0               \n",
       "4                                                0.0               \n",
       "\n",
       "   summary_Possible Light Rain and Humid summary_Windy and Partly Cloudy  \\\n",
       "0                                                0.0                       \n",
       "1                                                0.0                       \n",
       "2                                                0.0                       \n",
       "3                                                0.0                       \n",
       "4                                                0.0                       \n",
       "\n",
       "   summary_Windy and Foggy^2  summary_Windy and Foggy summary_Windy and Humid  \\\n",
       "0                        0.0                                              0.0   \n",
       "1                        0.0                                              0.0   \n",
       "2                        0.0                                              0.0   \n",
       "3                        0.0                                              0.0   \n",
       "4                        0.0                                              0.0   \n",
       "\n",
       "   summary_Windy and Foggy summary_Windy and Partly Cloudy  \\\n",
       "0                                                0.0         \n",
       "1                                                0.0         \n",
       "2                                                0.0         \n",
       "3                                                0.0         \n",
       "4                                                0.0         \n",
       "\n",
       "   summary_Windy and Humid^2  \\\n",
       "0                        0.0   \n",
       "1                        0.0   \n",
       "2                        0.0   \n",
       "3                        0.0   \n",
       "4                        0.0   \n",
       "\n",
       "   summary_Windy and Humid summary_Windy and Partly Cloudy  \\\n",
       "0                                                0.0         \n",
       "1                                                0.0         \n",
       "2                                                0.0         \n",
       "3                                                0.0         \n",
       "4                                                0.0         \n",
       "\n",
       "   summary_Windy and Partly Cloudy^2  \n",
       "0                                0.0  \n",
       "1                                0.0  \n",
       "2                                0.0  \n",
       "3                                0.0  \n",
       "4                                0.0  \n",
       "\n",
       "[5 rows x 945 columns]"
      ]
     },
     "execution_count": 162,
     "metadata": {},
     "output_type": "execute_result"
    }
   ],
   "source": [
    "poly_2 = PolynomialFeatures(degree=2, include_bias=False)\n",
    "poly2_data = poly_2.fit_transform(X[selected_rfe])\n",
    "poly2_columns = poly_2.get_feature_names(X[selected_rfe].columns)\n",
    "df_poly2 = pd.DataFrame(poly2_data, columns=poly2_columns)\n",
    "print(df_poly2.shape)\n",
    "df_poly2.head()"
   ]
  },
  {
   "cell_type": "markdown",
   "metadata": {},
   "source": [
    "## Train Test Split & Scale"
   ]
  },
  {
   "cell_type": "code",
   "execution_count": 163,
   "metadata": {},
   "outputs": [],
   "source": [
    "### Train Test Split\n",
    "\n",
    "#Split the Data\n",
    "from sklearn.model_selection import train_test_split\n",
    "X_train, X_test, y_train, y_test = train_test_split(df_poly2, y,random_state=1)\n",
    "\n",
    "### Scale Data\n",
    "\n",
    "# Scale the Data\n",
    "from sklearn.preprocessing import StandardScaler\n",
    "scaler = StandardScaler()\n",
    "\n",
    "X_train = scaler.fit_transform(X_train)\n",
    "X_train = pd.DataFrame(data = X_train, columns = df_poly2.columns)\n",
    "\n",
    "X_test = scaler.transform(X_test)\n",
    "X_test = pd.DataFrame(data = X_test,columns = df_poly2.columns)"
   ]
  },
  {
   "cell_type": "markdown",
   "metadata": {},
   "source": [
    "## Logistic Regression with RFE + Polynomial"
   ]
  },
  {
   "cell_type": "code",
   "execution_count": 164,
   "metadata": {},
   "outputs": [
    {
     "name": "stdout",
     "output_type": "stream",
     "text": [
      "Train F1 score:  0.591\n",
      "Test F1 score:  0.519\n"
     ]
    },
    {
     "name": "stderr",
     "output_type": "stream",
     "text": [
      "/Users/alexzieky/opt/anaconda3/lib/python3.7/site-packages/sklearn/linear_model/_logistic.py:764: ConvergenceWarning: lbfgs failed to converge (status=1):\n",
      "STOP: TOTAL NO. of ITERATIONS REACHED LIMIT.\n",
      "\n",
      "Increase the number of iterations (max_iter) or scale the data as shown in:\n",
      "    https://scikit-learn.org/stable/modules/preprocessing.html\n",
      "Please also refer to the documentation for alternative solver options:\n",
      "    https://scikit-learn.org/stable/modules/linear_model.html#logistic-regression\n",
      "  extra_warning_msg=_LOGISTIC_SOLVER_CONVERGENCE_MSG)\n"
     ]
    }
   ],
   "source": [
    "### Logistic Regression\n",
    "\n",
    "from sklearn.linear_model import LogisticRegression\n",
    "\n",
    "logreg = LogisticRegression(class_weight = 'balanced')\n",
    "\n",
    "logreg.fit(X_train, y_train)\n",
    "\n",
    "base_logred_train_pred = logreg.predict(X_train)\n",
    "base_logred_test_pred = logreg.predict(X_test)\n",
    "\n",
    "poly_logred_train_f1_score = round(f1_score(y_train, base_logred_train_pred),3)\n",
    "poly_logreg_test_f1_score = round(f1_score(y_test, base_logred_test_pred),3)\n",
    "\n",
    "print('Train F1 score: ', poly_logred_train_f1_score)\n",
    "print('Test F1 score: ', poly_logreg_test_f1_score)"
   ]
  },
  {
   "cell_type": "markdown",
   "metadata": {},
   "source": [
    "## Decision Tree with RFE + Polynomial"
   ]
  },
  {
   "cell_type": "code",
   "execution_count": 169,
   "metadata": {},
   "outputs": [
    {
     "name": "stdout",
     "output_type": "stream",
     "text": [
      "Train F1 score:  0.626\n",
      "Test F1 score:  0.583\n"
     ]
    }
   ],
   "source": [
    "### Decision Tree\n",
    "\n",
    "# Simple decision tree (ID3)\n",
    "from sklearn.tree import DecisionTreeClassifier \n",
    "\n",
    "final_dtc = DecisionTreeClassifier(random_state=1,\n",
    "                                   criterion = 'entropy', \n",
    "                                   max_depth = 4, \n",
    "                                   min_samples_leaf = 1,\n",
    "                                   min_samples_split =  2)\n",
    "final_dtc.fit(X_train, y_train)\n",
    "\n",
    "dtc_train_pred = final_dtc.predict(X_train)\n",
    "dtc_test_pred = final_dtc.predict(X_test)\n",
    "\n",
    "poly_dtc_f1_train = round(f1_score(y_train, dtc_train_pred),3)\n",
    "poly_dtc_f1_test = round(f1_score(y_test, dtc_test_pred), 3)\n",
    "\n",
    "print('Train F1 score: ', poly_dtc_f1_train)\n",
    "print('Test F1 score: ', poly_dtc_f1_test)"
   ]
  },
  {
   "cell_type": "code",
   "execution_count": 170,
   "metadata": {},
   "outputs": [
    {
     "name": "stdout",
     "output_type": "stream",
     "text": [
      "Fitting 3 folds for each of 1200 candidates, totalling 3600 fits\n"
     ]
    },
    {
     "name": "stderr",
     "output_type": "stream",
     "text": [
      "[Parallel(n_jobs=-1)]: Using backend LokyBackend with 4 concurrent workers.\n",
      "[Parallel(n_jobs=-1)]: Done  50 tasks      | elapsed:   12.6s\n",
      "[Parallel(n_jobs=-1)]: Done 200 tasks      | elapsed:   52.8s\n",
      "[Parallel(n_jobs=-1)]: Done 450 tasks      | elapsed:  2.8min\n",
      "[Parallel(n_jobs=-1)]: Done 800 tasks      | elapsed:  6.6min\n",
      "[Parallel(n_jobs=-1)]: Done 1250 tasks      | elapsed: 13.9min\n",
      "[Parallel(n_jobs=-1)]: Done 1800 tasks      | elapsed: 23.4min\n",
      "[Parallel(n_jobs=-1)]: Done 2450 tasks      | elapsed: 28.7min\n",
      "[Parallel(n_jobs=-1)]: Done 3200 tasks      | elapsed: 42.2min\n",
      "[Parallel(n_jobs=-1)]: Done 3600 out of 3600 | elapsed: 52.5min finished\n"
     ]
    },
    {
     "name": "stdout",
     "output_type": "stream",
     "text": [
      "{'criterion': 'entropy', 'max_depth': 9, 'min_samples_leaf': 17, 'min_samples_split': 3} :  0.5751898841011545\n",
      "Train F1 score:  0.672\n",
      "Test F1 score:  0.611\n"
     ]
    }
   ],
   "source": [
    "# find the best hyperparameters for simple decision tree\n",
    "parameters={'max_depth': range(3,20,3),  \n",
    "            'min_samples_split':range(1,20,2),\n",
    "            'min_samples_leaf':range(1,20,2),\n",
    "            'criterion': ['gini','entropy'] \n",
    "           }\n",
    "\n",
    "dtc = DecisionTreeClassifier(random_state=1)\n",
    "\n",
    "tree_g = GridSearchCV(dtc, parameters, cv=3, scoring='f1', verbose = 1,  n_jobs = -1)\n",
    "tree_g.fit(X_train,y_train)\n",
    "\n",
    "print(tree_g.best_params_, ': ', tree_g.best_score_)\n",
    "\n",
    "y_pred = tree_g.best_estimator_.predict(X_test)    \n",
    "y_pred_train = tree_g.best_estimator_.predict(X_train)    \n",
    "\n",
    "f1_train = round(f1_score(y_train, y_pred_train), 3)\n",
    "f1_test = round(f1_score(y_test, y_pred), 3)\n",
    "\n",
    "print('Train F1 score: ', f1_train)\n",
    "print('Test F1 score: ', f1_test)"
   ]
  },
  {
   "cell_type": "code",
   "execution_count": 173,
   "metadata": {},
   "outputs": [
    {
     "name": "stdout",
     "output_type": "stream",
     "text": [
      "Logistic Regression:\n",
      "      Baseline Train F1 score:  0.552\n",
      "      Baseline Test F1 score:  0.532\n",
      "      RFE Train F1 score:  0.537\n",
      "      RFE Test F1 score:  0.544\n",
      "      Polynomial Train F1 score:  0.591\n",
      "      Polynomial Test F1 score:  0.519\n",
      "\n",
      "Decision Tree:\n",
      "      Baseline Train F1 score:  1.0\n",
      "      Baselne Test F1 score:  0.513\n",
      "      RFE Train F1 score:  0.599\n",
      "      RFE Test F1 score:  0.564\n",
      "      Polynomial Train F1 score:  0.672\n",
      "      Polynomial Test F1 score:  0.611\n"
     ]
    }
   ],
   "source": [
    "### Final Scores \n",
    "\n",
    "print('Logistic Regression:')\n",
    "print('      Baseline Train F1 score: ', base_logred_train_f1_score)\n",
    "print('      Baseline Test F1 score: ', base_logreg_test_f1_score)\n",
    "print('      RFE Train F1 score: ', rfe_logred_train_f1_score)\n",
    "print('      RFE Test F1 score: ', rfe_logreg_test_f1_score)\n",
    "print('      Polynomial Train F1 score: ', poly_logred_train_f1_score)\n",
    "print('      Polynomial Test F1 score: ', poly_logreg_test_f1_score)\n",
    "print('')\n",
    "print('Decision Tree:')\n",
    "print('      Baseline Train F1 score: ', dtc_f1_train)\n",
    "print('      Baselne Test F1 score: ', dtc_f1_test)\n",
    "print('      RFE Train F1 score: ', rfe_dtc_f1_train)\n",
    "print('      RFE Test F1 score: ', rfe_dtc_f1_test)\n",
    "print('      Polynomial Train F1 score: ', f1_train)\n",
    "print('      Polynomial Test F1 score: ', f1_test)"
   ]
  },
  {
   "cell_type": "markdown",
   "metadata": {},
   "source": [
    "The polynomial table successfully helped me overfit the Logistic and Decision Tree models. While this inevitably hurt the Logistic Regression output, it still managed to help my Decision Tree Model. This brought the Grid Search cross-validation score up to 61% which is 10% from where we started."
   ]
  },
  {
   "cell_type": "markdown",
   "metadata": {},
   "source": [
    "# Continue with Decision Tree"
   ]
  },
  {
   "cell_type": "markdown",
   "metadata": {},
   "source": [
    "I will now continue with only the Decision Tree model to try and increase my F1 score as much as possible. First trying to add another degree to the polynomial dataset"
   ]
  },
  {
   "cell_type": "code",
   "execution_count": 174,
   "metadata": {},
   "outputs": [
    {
     "name": "stdout",
     "output_type": "stream",
     "text": [
      "(9815, 14189)\n"
     ]
    }
   ],
   "source": [
    "poly_3 = PolynomialFeatures(degree=3, include_bias=False)\n",
    "poly3_data = poly_3.fit_transform(X[selected_rfe])\n",
    "poly3_columns = poly_3.get_feature_names(X[selected_rfe].columns)\n",
    "df_poly3 = pd.DataFrame(poly3_data, columns=poly3_columns)\n",
    "print(df_poly3.shape)"
   ]
  },
  {
   "cell_type": "code",
   "execution_count": 175,
   "metadata": {},
   "outputs": [],
   "source": [
    "### Train Test Split\n",
    "\n",
    "#Split the Data\n",
    "from sklearn.model_selection import train_test_split\n",
    "X_train, X_test, y_train, y_test = train_test_split(df_poly3, y,random_state=1)\n",
    "\n",
    "### Scale Data\n",
    "\n",
    "# Scale the Data\n",
    "from sklearn.preprocessing import StandardScaler\n",
    "scaler = StandardScaler()\n",
    "\n",
    "X_train = scaler.fit_transform(X_train)\n",
    "X_train = pd.DataFrame(data = X_train, columns = df_poly3.columns)\n",
    "\n",
    "X_test = scaler.transform(X_test)\n",
    "X_test = pd.DataFrame(data = X_test,columns = df_poly3.columns)"
   ]
  },
  {
   "cell_type": "code",
   "execution_count": 177,
   "metadata": {},
   "outputs": [
    {
     "name": "stdout",
     "output_type": "stream",
     "text": [
      "Train F1 score:  0.551\n",
      "Test F1 score:  0.455\n"
     ]
    }
   ],
   "source": [
    "### Decision Tree\n",
    "\n",
    "# Simple decision tree (ID3)\n",
    "from sklearn.tree import DecisionTreeClassifier \n",
    "\n",
    "final_dtc = DecisionTreeClassifier(criterion= 'entropy', max_depth= 9, min_samples_leaf= 17, min_samples_split= 3)\n",
    "final_dtc.fit(X_train, y_train)\n",
    "\n",
    "dtc_train_pred = final_dtc.predict(X_train)\n",
    "dtc_test_pred = final_dtc.predict(X_test)\n",
    "\n",
    "poly3_dtc_f1_train = round(f1_score(y_train, dtc_train_pred),3)\n",
    "poly3_dtc_f1_test = round(f1_score(y_test, dtc_test_pred), 3)\n",
    "\n",
    "print('Train F1 score: ', poly3_dtc_f1_train)\n",
    "print('Test F1 score: ', poly3_dtc_f1_test)"
   ]
  },
  {
   "cell_type": "code",
   "execution_count": null,
   "metadata": {},
   "outputs": [],
   "source": []
  },
  {
   "cell_type": "code",
   "execution_count": null,
   "metadata": {},
   "outputs": [],
   "source": [
    "# find the best hyperparameters for simple decision tree\n",
    "parameters={'max_depth': range(3,20,3),  \n",
    "            'min_samples_split':range(1,25,4),\n",
    "            'min_samples_leaf':range(1,25,4),\n",
    "            'criterion': ['gini','entropy'] \n",
    "           }\n",
    "\n",
    "dtc = DecisionTreeClassifier(random_state=1)\n",
    "\n",
    "tree_g = GridSearchCV(dtc, parameters, cv=3, scoring='f1', verbose = 1,  n_jobs = -1)\n",
    "tree_g.fit(X_train,y_train)\n",
    "\n",
    "print(tree_g.best_params_, ': ', tree_g.best_score_)\n",
    "\n",
    "y_pred = tree_g.best_estimator_.predict(X_test)    \n",
    "y_pred_train = tree_g.best_estimator_.predict(X_train)    \n",
    "\n",
    "f1_train = round(f1_score(y_train, y_pred_train), 3)\n",
    "f1_test = round(f1_score(y_test, y_pred), 3)\n",
    "\n",
    "print('Train F1 score: ', f1_train)\n",
    "print('Test F1 score: ', f1_test)"
   ]
  }
 ],
 "metadata": {
  "kernelspec": {
   "display_name": "Python 3",
   "language": "python",
   "name": "python3"
  },
  "language_info": {
   "codemirror_mode": {
    "name": "ipython",
    "version": 3
   },
   "file_extension": ".py",
   "mimetype": "text/x-python",
   "name": "python",
   "nbconvert_exporter": "python",
   "pygments_lexer": "ipython3",
   "version": "3.7.6"
  }
 },
 "nbformat": 4,
 "nbformat_minor": 4
}
